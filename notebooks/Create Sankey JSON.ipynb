{
 "cells": [
  {
   "cell_type": "markdown",
   "metadata": {},
   "source": [
    "# 1 - Introduction"
   ]
  },
  {
   "cell_type": "code",
   "execution_count": 1,
   "metadata": {},
   "outputs": [],
   "source": [
    "import json"
   ]
  },
  {
   "cell_type": "code",
   "execution_count": 2,
   "metadata": {},
   "outputs": [],
   "source": [
    "import pandas as pd\n",
    "import numpy as np"
   ]
  },
  {
   "cell_type": "code",
   "execution_count": 3,
   "metadata": {},
   "outputs": [],
   "source": [
    "def num_rows(df):\n",
    "    print('Dataframe has {} observations'.format(df.shape[0]))"
   ]
  },
  {
   "cell_type": "code",
   "execution_count": 4,
   "metadata": {},
   "outputs": [],
   "source": [
    "OUT_FILE = \"../hackathon_template/energy_flows.json\"\n",
    "IN_DIR = \"../data/sankey/\""
   ]
  },
  {
   "cell_type": "markdown",
   "metadata": {},
   "source": [
    "This notebook is used to generate the data that is fed into the Sankey diagram. It aims to be as transparent as possible in the manipulations that are performed on the data."
   ]
  },
  {
   "cell_type": "markdown",
   "metadata": {},
   "source": [
    "# Read in main data"
   ]
  },
  {
   "cell_type": "markdown",
   "metadata": {},
   "source": [
    "The \"raw\" data is stored in multiple _csv_ files in the /data/sankey directory. Start by reading in the main sheet, \"CAN15_Mapped\", provided by the organizers of the hackathon."
   ]
  },
  {
   "cell_type": "code",
   "execution_count": 5,
   "metadata": {},
   "outputs": [
    {
     "name": "stdout",
     "output_type": "stream",
     "text": [
      "Dataframe has 85 observations\n"
     ]
    },
    {
     "data": {
      "text/html": [
       "<div>\n",
       "<style scoped>\n",
       "    .dataframe tbody tr th:only-of-type {\n",
       "        vertical-align: middle;\n",
       "    }\n",
       "\n",
       "    .dataframe tbody tr th {\n",
       "        vertical-align: top;\n",
       "    }\n",
       "\n",
       "    .dataframe thead th {\n",
       "        text-align: right;\n",
       "    }\n",
       "</style>\n",
       "<table border=\"1\" class=\"dataframe\">\n",
       "  <thead>\n",
       "    <tr style=\"text-align: right;\">\n",
       "      <th></th>\n",
       "      <th>Ref_Date</th>\n",
       "      <th>GEO</th>\n",
       "      <th>FUEL</th>\n",
       "      <th>SUPPLY</th>\n",
       "      <th>Vector</th>\n",
       "      <th>Coordinate</th>\n",
       "      <th>Value</th>\n",
       "      <th>Input</th>\n",
       "      <th>Output</th>\n",
       "    </tr>\n",
       "  </thead>\n",
       "  <tbody>\n",
       "    <tr>\n",
       "      <th>0</th>\n",
       "      <td>2015</td>\n",
       "      <td>Canada</td>\n",
       "      <td>Total refined petroleum products</td>\n",
       "      <td>Inter-product transfers</td>\n",
       "      <td>v54272424</td>\n",
       "      <td>1.14.6</td>\n",
       "      <td>-386892.0</td>\n",
       "      <td>Refined petroleum products</td>\n",
       "      <td>Inter-product transfers</td>\n",
       "    </tr>\n",
       "    <tr>\n",
       "      <th>1</th>\n",
       "      <td>2015</td>\n",
       "      <td>Canada</td>\n",
       "      <td>Gas plant natural gas liquids (NGL's)</td>\n",
       "      <td>Other adjustments</td>\n",
       "      <td>v54272889</td>\n",
       "      <td>1.6.7</td>\n",
       "      <td>-124573.0</td>\n",
       "      <td>NGLs</td>\n",
       "      <td>Other adjustments</td>\n",
       "    </tr>\n",
       "    <tr>\n",
       "      <th>2</th>\n",
       "      <td>2015</td>\n",
       "      <td>Canada</td>\n",
       "      <td>Natural gas</td>\n",
       "      <td>Inter-product transfers</td>\n",
       "      <td>v54272864</td>\n",
       "      <td>1.5.6</td>\n",
       "      <td>-112297.0</td>\n",
       "      <td>Natural gas</td>\n",
       "      <td>Inter-product transfers</td>\n",
       "    </tr>\n",
       "    <tr>\n",
       "      <th>3</th>\n",
       "      <td>2015</td>\n",
       "      <td>Canada</td>\n",
       "      <td>Total refined petroleum products</td>\n",
       "      <td>Stock variation</td>\n",
       "      <td>v54272423</td>\n",
       "      <td>1.14.5</td>\n",
       "      <td>-35833.0</td>\n",
       "      <td>Stock variation</td>\n",
       "      <td>Refined petroleum products</td>\n",
       "    </tr>\n",
       "    <tr>\n",
       "      <th>4</th>\n",
       "      <td>2015</td>\n",
       "      <td>Canada</td>\n",
       "      <td>Gas plant natural gas liquids (NGL's)</td>\n",
       "      <td>Stock variation</td>\n",
       "      <td>v54272888</td>\n",
       "      <td>1.6.5</td>\n",
       "      <td>-17653.0</td>\n",
       "      <td>Stock variation</td>\n",
       "      <td>NGLs</td>\n",
       "    </tr>\n",
       "  </tbody>\n",
       "</table>\n",
       "</div>"
      ],
      "text/plain": [
       "   Ref_Date     GEO                                   FUEL  \\\n",
       "0      2015  Canada       Total refined petroleum products   \n",
       "1      2015  Canada  Gas plant natural gas liquids (NGL's)   \n",
       "2      2015  Canada                            Natural gas   \n",
       "3      2015  Canada       Total refined petroleum products   \n",
       "4      2015  Canada  Gas plant natural gas liquids (NGL's)   \n",
       "\n",
       "                    SUPPLY     Vector Coordinate     Value  \\\n",
       "0  Inter-product transfers  v54272424     1.14.6 -386892.0   \n",
       "1        Other adjustments  v54272889      1.6.7 -124573.0   \n",
       "2  Inter-product transfers  v54272864      1.5.6 -112297.0   \n",
       "3          Stock variation  v54272423     1.14.5  -35833.0   \n",
       "4          Stock variation  v54272888      1.6.5  -17653.0   \n",
       "\n",
       "                        Input                      Output  \n",
       "0  Refined petroleum products     Inter-product transfers  \n",
       "1                        NGLs           Other adjustments  \n",
       "2                 Natural gas     Inter-product transfers  \n",
       "3             Stock variation  Refined petroleum products  \n",
       "4             Stock variation                        NGLs  "
      ]
     },
     "execution_count": 5,
     "metadata": {},
     "output_type": "execute_result"
    }
   ],
   "source": [
    "df = pd.read_csv(IN_DIR + \"CAN15_Mapped.csv\", dtype={\"Value\":'float64'})\n",
    "num_rows(df)\n",
    "df.head()"
   ]
  },
  {
   "cell_type": "markdown",
   "metadata": {},
   "source": [
    "# Cleaning"
   ]
  },
  {
   "cell_type": "markdown",
   "metadata": {},
   "source": [
    "Some cleaning on the provided file is necessary for various reasons."
   ]
  },
  {
   "cell_type": "markdown",
   "metadata": {},
   "source": [
    "## Detailed Primary Production"
   ]
  },
  {
   "cell_type": "markdown",
   "metadata": {},
   "source": [
    "In this section, we will incorporate details on the production of primary electricity. We start by reading in this data from the Excel file."
   ]
  },
  {
   "cell_type": "code",
   "execution_count": 6,
   "metadata": {},
   "outputs": [
    {
     "data": {
      "text/html": [
       "<div>\n",
       "<style scoped>\n",
       "    .dataframe tbody tr th:only-of-type {\n",
       "        vertical-align: middle;\n",
       "    }\n",
       "\n",
       "    .dataframe tbody tr th {\n",
       "        vertical-align: top;\n",
       "    }\n",
       "\n",
       "    .dataframe thead th {\n",
       "        text-align: right;\n",
       "    }\n",
       "</style>\n",
       "<table border=\"1\" class=\"dataframe\">\n",
       "  <thead>\n",
       "    <tr style=\"text-align: right;\">\n",
       "      <th></th>\n",
       "      <th>Ref_Date</th>\n",
       "      <th>GEO</th>\n",
       "      <th>FUEL</th>\n",
       "      <th>SUPPLY</th>\n",
       "      <th>Vector</th>\n",
       "      <th>Coordinate</th>\n",
       "      <th>Value</th>\n",
       "      <th>Input</th>\n",
       "      <th>Output</th>\n",
       "    </tr>\n",
       "  </thead>\n",
       "  <tbody>\n",
       "    <tr>\n",
       "      <th>0</th>\n",
       "      <td>2015</td>\n",
       "      <td>Canada</td>\n",
       "      <td>Hydraulic turbine (3)</td>\n",
       "      <td>Production</td>\n",
       "      <td>v0000</td>\n",
       "      <td>1.1.1</td>\n",
       "      <td>1362628</td>\n",
       "      <td>Hydro</td>\n",
       "      <td>Primary electricity, hydro and nuclear</td>\n",
       "    </tr>\n",
       "    <tr>\n",
       "      <th>1</th>\n",
       "      <td>2015</td>\n",
       "      <td>Canada</td>\n",
       "      <td>Tidal power turbine (4)</td>\n",
       "      <td>Production</td>\n",
       "      <td>v0001</td>\n",
       "      <td>1.1.2</td>\n",
       "      <td>46</td>\n",
       "      <td>Tidal</td>\n",
       "      <td>Primary electricity, hydro and nuclear</td>\n",
       "    </tr>\n",
       "    <tr>\n",
       "      <th>2</th>\n",
       "      <td>2015</td>\n",
       "      <td>Canada</td>\n",
       "      <td>Wind power turbine (5)</td>\n",
       "      <td>Production</td>\n",
       "      <td>v0002</td>\n",
       "      <td>1.1.3</td>\n",
       "      <td>96108</td>\n",
       "      <td>Wind</td>\n",
       "      <td>Primary electricity, hydro and nuclear</td>\n",
       "    </tr>\n",
       "    <tr>\n",
       "      <th>3</th>\n",
       "      <td>2015</td>\n",
       "      <td>Canada</td>\n",
       "      <td>Solar (10)</td>\n",
       "      <td>Production</td>\n",
       "      <td>v0003</td>\n",
       "      <td>1.1.4</td>\n",
       "      <td>5136</td>\n",
       "      <td>Solar</td>\n",
       "      <td>Primary electricity, hydro and nuclear</td>\n",
       "    </tr>\n",
       "    <tr>\n",
       "      <th>4</th>\n",
       "      <td>2015</td>\n",
       "      <td>Canada</td>\n",
       "      <td>Other types of electricity generation</td>\n",
       "      <td>Production</td>\n",
       "      <td>v0004</td>\n",
       "      <td>1.1.5</td>\n",
       "      <td>502</td>\n",
       "      <td>Other Electricity</td>\n",
       "      <td>Primary electricity, hydro and nuclear</td>\n",
       "    </tr>\n",
       "  </tbody>\n",
       "</table>\n",
       "</div>"
      ],
      "text/plain": [
       "   Ref_Date     GEO                                   FUEL      SUPPLY Vector  \\\n",
       "0      2015  Canada                  Hydraulic turbine (3)  Production  v0000   \n",
       "1      2015  Canada                Tidal power turbine (4)  Production  v0001   \n",
       "2      2015  Canada                 Wind power turbine (5)  Production  v0002   \n",
       "3      2015  Canada                             Solar (10)  Production  v0003   \n",
       "4      2015  Canada  Other types of electricity generation  Production  v0004   \n",
       "\n",
       "  Coordinate    Value              Input  \\\n",
       "0      1.1.1  1362628              Hydro   \n",
       "1      1.1.2       46              Tidal   \n",
       "2      1.1.3    96108               Wind   \n",
       "3      1.1.4     5136              Solar   \n",
       "4      1.1.5      502  Other Electricity   \n",
       "\n",
       "                                   Output  \n",
       "0  Primary electricity, hydro and nuclear  \n",
       "1  Primary electricity, hydro and nuclear  \n",
       "2  Primary electricity, hydro and nuclear  \n",
       "3  Primary electricity, hydro and nuclear  \n",
       "4  Primary electricity, hydro and nuclear  "
      ]
     },
     "execution_count": 6,
     "metadata": {},
     "output_type": "execute_result"
    }
   ],
   "source": [
    "detailed_primary = pd.read_csv(IN_DIR + \"1270007mapped.csv\")\n",
    "detailed_primary.head()"
   ]
  },
  {
   "cell_type": "markdown",
   "metadata": {},
   "source": [
    "Now drop the link between general production and primary electricity."
   ]
  },
  {
   "cell_type": "code",
   "execution_count": 7,
   "metadata": {},
   "outputs": [
    {
     "name": "stdout",
     "output_type": "stream",
     "text": [
      "Dataframe has 84 observations\n"
     ]
    }
   ],
   "source": [
    "df = df[~((df[\"Input\"] == 'Production') & (df[\"Output\"] == 'Primary electricity, hydro and nuclear'))]\n",
    "num_rows(df)"
   ]
  },
  {
   "cell_type": "markdown",
   "metadata": {},
   "source": [
    "Now append on the primary production details."
   ]
  },
  {
   "cell_type": "code",
   "execution_count": 8,
   "metadata": {},
   "outputs": [
    {
     "name": "stdout",
     "output_type": "stream",
     "text": [
      "Dataframe has 90 observations\n"
     ]
    }
   ],
   "source": [
    "df = pd.concat([df, detailed_primary])\n",
    "num_rows(df)"
   ]
  },
  {
   "cell_type": "markdown",
   "metadata": {},
   "source": [
    "## Imputations"
   ]
  },
  {
   "cell_type": "markdown",
   "metadata": {},
   "source": [
    "A great deal of flows in the main sheet are suppressed due to confidentiality concerns. Currently, these observations have all been imputed as having values of _33_. For some flows, this is far too low. Improved imputation can be found in the _Imputations_ tab and will replace the current values."
   ]
  },
  {
   "cell_type": "code",
   "execution_count": 9,
   "metadata": {},
   "outputs": [
    {
     "name": "stdout",
     "output_type": "stream",
     "text": [
      "Dataframe has 10 observations\n"
     ]
    }
   ],
   "source": [
    "imputations = pd.read_csv(IN_DIR+\"Imputations.csv\", dtype={\"Value\":np.float})\n",
    "num_rows(imputations)"
   ]
  },
  {
   "cell_type": "markdown",
   "metadata": {},
   "source": [
    "Again, we will drop the original imputations and then append the improved imputed observations."
   ]
  },
  {
   "cell_type": "code",
   "execution_count": 10,
   "metadata": {},
   "outputs": [],
   "source": [
    "df = df[df[\"Value\"] != 33]"
   ]
  },
  {
   "cell_type": "code",
   "execution_count": 11,
   "metadata": {},
   "outputs": [
    {
     "name": "stdout",
     "output_type": "stream",
     "text": [
      "Dataframe has 90 observations\n"
     ]
    }
   ],
   "source": [
    "df = pd.concat([df, imputations])\n",
    "num_rows(df)"
   ]
  },
  {
   "cell_type": "markdown",
   "metadata": {},
   "source": [
    "# Negatives"
   ]
  },
  {
   "cell_type": "markdown",
   "metadata": {},
   "source": [
    "Some of the values are currently negative. They need to be changed to positive while creating new names to differentiate between energy supply and uses."
   ]
  },
  {
   "cell_type": "markdown",
   "metadata": {},
   "source": [
    "## Stock variations"
   ]
  },
  {
   "cell_type": "markdown",
   "metadata": {},
   "source": [
    "Positive stock variations become \"Stock deposits\" and the input and output columns will be switched."
   ]
  },
  {
   "cell_type": "code",
   "execution_count": 12,
   "metadata": {
    "scrolled": true
   },
   "outputs": [
    {
     "data": {
      "text/html": [
       "<div>\n",
       "<style scoped>\n",
       "    .dataframe tbody tr th:only-of-type {\n",
       "        vertical-align: middle;\n",
       "    }\n",
       "\n",
       "    .dataframe tbody tr th {\n",
       "        vertical-align: top;\n",
       "    }\n",
       "\n",
       "    .dataframe thead th {\n",
       "        text-align: right;\n",
       "    }\n",
       "</style>\n",
       "<table border=\"1\" class=\"dataframe\">\n",
       "  <thead>\n",
       "    <tr style=\"text-align: right;\">\n",
       "      <th></th>\n",
       "      <th>Ref_Date</th>\n",
       "      <th>GEO</th>\n",
       "      <th>FUEL</th>\n",
       "      <th>SUPPLY</th>\n",
       "      <th>Vector</th>\n",
       "      <th>Coordinate</th>\n",
       "      <th>Value</th>\n",
       "      <th>Input</th>\n",
       "      <th>Output</th>\n",
       "    </tr>\n",
       "  </thead>\n",
       "  <tbody>\n",
       "    <tr>\n",
       "      <th>23</th>\n",
       "      <td>2015</td>\n",
       "      <td>Canada</td>\n",
       "      <td>Crude oil</td>\n",
       "      <td>Stock variation</td>\n",
       "      <td>v54272828</td>\n",
       "      <td>1.4.5</td>\n",
       "      <td>10178.0</td>\n",
       "      <td>Stock variation</td>\n",
       "      <td>Crude oil</td>\n",
       "    </tr>\n",
       "    <tr>\n",
       "      <th>25</th>\n",
       "      <td>2015</td>\n",
       "      <td>Canada</td>\n",
       "      <td>Total coal</td>\n",
       "      <td>Stock variation</td>\n",
       "      <td>v54272744</td>\n",
       "      <td>1.29.5</td>\n",
       "      <td>10504.0</td>\n",
       "      <td>Stock variation</td>\n",
       "      <td>Coal</td>\n",
       "    </tr>\n",
       "    <tr>\n",
       "      <th>48</th>\n",
       "      <td>2015</td>\n",
       "      <td>Canada</td>\n",
       "      <td>Natural gas</td>\n",
       "      <td>Stock variation</td>\n",
       "      <td>v54272863</td>\n",
       "      <td>1.5.5</td>\n",
       "      <td>95673.0</td>\n",
       "      <td>Stock variation</td>\n",
       "      <td>Natural gas</td>\n",
       "    </tr>\n",
       "  </tbody>\n",
       "</table>\n",
       "</div>"
      ],
      "text/plain": [
       "    Ref_Date     GEO         FUEL           SUPPLY     Vector Coordinate  \\\n",
       "23      2015  Canada    Crude oil  Stock variation  v54272828      1.4.5   \n",
       "25      2015  Canada   Total coal  Stock variation  v54272744     1.29.5   \n",
       "48      2015  Canada  Natural gas  Stock variation  v54272863      1.5.5   \n",
       "\n",
       "      Value            Input       Output  \n",
       "23  10178.0  Stock variation    Crude oil  \n",
       "25  10504.0  Stock variation         Coal  \n",
       "48  95673.0  Stock variation  Natural gas  "
      ]
     },
     "execution_count": 12,
     "metadata": {},
     "output_type": "execute_result"
    }
   ],
   "source": [
    "slicer = (df['Input'] == 'Stock variation') & (df['Value'] > 0)\n",
    "df[slicer].head()"
   ]
  },
  {
   "cell_type": "code",
   "execution_count": 13,
   "metadata": {},
   "outputs": [
    {
     "data": {
      "text/html": [
       "<div>\n",
       "<style scoped>\n",
       "    .dataframe tbody tr th:only-of-type {\n",
       "        vertical-align: middle;\n",
       "    }\n",
       "\n",
       "    .dataframe tbody tr th {\n",
       "        vertical-align: top;\n",
       "    }\n",
       "\n",
       "    .dataframe thead th {\n",
       "        text-align: right;\n",
       "    }\n",
       "</style>\n",
       "<table border=\"1\" class=\"dataframe\">\n",
       "  <thead>\n",
       "    <tr style=\"text-align: right;\">\n",
       "      <th></th>\n",
       "      <th>Ref_Date</th>\n",
       "      <th>GEO</th>\n",
       "      <th>FUEL</th>\n",
       "      <th>SUPPLY</th>\n",
       "      <th>Vector</th>\n",
       "      <th>Coordinate</th>\n",
       "      <th>Value</th>\n",
       "      <th>Input</th>\n",
       "      <th>Output</th>\n",
       "    </tr>\n",
       "  </thead>\n",
       "  <tbody>\n",
       "    <tr>\n",
       "      <th>23</th>\n",
       "      <td>2015</td>\n",
       "      <td>Canada</td>\n",
       "      <td>Crude oil</td>\n",
       "      <td>Stock variation</td>\n",
       "      <td>v54272828</td>\n",
       "      <td>1.4.5</td>\n",
       "      <td>10178.0</td>\n",
       "      <td>Crude oil</td>\n",
       "      <td>Stock deposits</td>\n",
       "    </tr>\n",
       "    <tr>\n",
       "      <th>25</th>\n",
       "      <td>2015</td>\n",
       "      <td>Canada</td>\n",
       "      <td>Total coal</td>\n",
       "      <td>Stock variation</td>\n",
       "      <td>v54272744</td>\n",
       "      <td>1.29.5</td>\n",
       "      <td>10504.0</td>\n",
       "      <td>Coal</td>\n",
       "      <td>Stock deposits</td>\n",
       "    </tr>\n",
       "    <tr>\n",
       "      <th>48</th>\n",
       "      <td>2015</td>\n",
       "      <td>Canada</td>\n",
       "      <td>Natural gas</td>\n",
       "      <td>Stock variation</td>\n",
       "      <td>v54272863</td>\n",
       "      <td>1.5.5</td>\n",
       "      <td>95673.0</td>\n",
       "      <td>Natural gas</td>\n",
       "      <td>Stock deposits</td>\n",
       "    </tr>\n",
       "  </tbody>\n",
       "</table>\n",
       "</div>"
      ],
      "text/plain": [
       "    Ref_Date     GEO         FUEL           SUPPLY     Vector Coordinate  \\\n",
       "23      2015  Canada    Crude oil  Stock variation  v54272828      1.4.5   \n",
       "25      2015  Canada   Total coal  Stock variation  v54272744     1.29.5   \n",
       "48      2015  Canada  Natural gas  Stock variation  v54272863      1.5.5   \n",
       "\n",
       "      Value        Input          Output  \n",
       "23  10178.0    Crude oil  Stock deposits  \n",
       "25  10504.0         Coal  Stock deposits  \n",
       "48  95673.0  Natural gas  Stock deposits  "
      ]
     },
     "execution_count": 13,
     "metadata": {},
     "output_type": "execute_result"
    }
   ],
   "source": [
    "df.loc[slicer, \"Input\"] = df.loc[slicer, \"Output\"]\n",
    "df.loc[slicer, \"Output\"] = 'Stock deposits'\n",
    "df[slicer].head()"
   ]
  },
  {
   "cell_type": "markdown",
   "metadata": {},
   "source": [
    "Negative stock variations become \"Stock withdrawals\", but there is no need to switch the input and output columns."
   ]
  },
  {
   "cell_type": "code",
   "execution_count": 14,
   "metadata": {},
   "outputs": [
    {
     "data": {
      "text/html": [
       "<div>\n",
       "<style scoped>\n",
       "    .dataframe tbody tr th:only-of-type {\n",
       "        vertical-align: middle;\n",
       "    }\n",
       "\n",
       "    .dataframe tbody tr th {\n",
       "        vertical-align: top;\n",
       "    }\n",
       "\n",
       "    .dataframe thead th {\n",
       "        text-align: right;\n",
       "    }\n",
       "</style>\n",
       "<table border=\"1\" class=\"dataframe\">\n",
       "  <thead>\n",
       "    <tr style=\"text-align: right;\">\n",
       "      <th></th>\n",
       "      <th>Ref_Date</th>\n",
       "      <th>GEO</th>\n",
       "      <th>FUEL</th>\n",
       "      <th>SUPPLY</th>\n",
       "      <th>Vector</th>\n",
       "      <th>Coordinate</th>\n",
       "      <th>Value</th>\n",
       "      <th>Input</th>\n",
       "      <th>Output</th>\n",
       "    </tr>\n",
       "  </thead>\n",
       "  <tbody>\n",
       "    <tr>\n",
       "      <th>3</th>\n",
       "      <td>2015</td>\n",
       "      <td>Canada</td>\n",
       "      <td>Total refined petroleum products</td>\n",
       "      <td>Stock variation</td>\n",
       "      <td>v54272423</td>\n",
       "      <td>1.14.5</td>\n",
       "      <td>-35833.0</td>\n",
       "      <td>Stock variation</td>\n",
       "      <td>Refined petroleum products</td>\n",
       "    </tr>\n",
       "    <tr>\n",
       "      <th>4</th>\n",
       "      <td>2015</td>\n",
       "      <td>Canada</td>\n",
       "      <td>Gas plant natural gas liquids (NGL's)</td>\n",
       "      <td>Stock variation</td>\n",
       "      <td>v54272888</td>\n",
       "      <td>1.6.5</td>\n",
       "      <td>-17653.0</td>\n",
       "      <td>Stock variation</td>\n",
       "      <td>NGLs</td>\n",
       "    </tr>\n",
       "    <tr>\n",
       "      <th>5</th>\n",
       "      <td>2015</td>\n",
       "      <td>Canada</td>\n",
       "      <td>Coke</td>\n",
       "      <td>Stock variation</td>\n",
       "      <td>v54272370</td>\n",
       "      <td>1.10.5</td>\n",
       "      <td>-2321.0</td>\n",
       "      <td>Stock variation</td>\n",
       "      <td>Coal products</td>\n",
       "    </tr>\n",
       "  </tbody>\n",
       "</table>\n",
       "</div>"
      ],
      "text/plain": [
       "   Ref_Date     GEO                                   FUEL           SUPPLY  \\\n",
       "3      2015  Canada       Total refined petroleum products  Stock variation   \n",
       "4      2015  Canada  Gas plant natural gas liquids (NGL's)  Stock variation   \n",
       "5      2015  Canada                                   Coke  Stock variation   \n",
       "\n",
       "      Vector Coordinate    Value            Input                      Output  \n",
       "3  v54272423     1.14.5 -35833.0  Stock variation  Refined petroleum products  \n",
       "4  v54272888      1.6.5 -17653.0  Stock variation                        NGLs  \n",
       "5  v54272370     1.10.5  -2321.0  Stock variation               Coal products  "
      ]
     },
     "execution_count": 14,
     "metadata": {},
     "output_type": "execute_result"
    }
   ],
   "source": [
    "slicer = (df['Input'] == 'Stock variation') & (df['Value'] < 0)\n",
    "df[slicer].head()"
   ]
  },
  {
   "cell_type": "code",
   "execution_count": 15,
   "metadata": {},
   "outputs": [
    {
     "data": {
      "text/html": [
       "<div>\n",
       "<style scoped>\n",
       "    .dataframe tbody tr th:only-of-type {\n",
       "        vertical-align: middle;\n",
       "    }\n",
       "\n",
       "    .dataframe tbody tr th {\n",
       "        vertical-align: top;\n",
       "    }\n",
       "\n",
       "    .dataframe thead th {\n",
       "        text-align: right;\n",
       "    }\n",
       "</style>\n",
       "<table border=\"1\" class=\"dataframe\">\n",
       "  <thead>\n",
       "    <tr style=\"text-align: right;\">\n",
       "      <th></th>\n",
       "      <th>Ref_Date</th>\n",
       "      <th>GEO</th>\n",
       "      <th>FUEL</th>\n",
       "      <th>SUPPLY</th>\n",
       "      <th>Vector</th>\n",
       "      <th>Coordinate</th>\n",
       "      <th>Value</th>\n",
       "      <th>Input</th>\n",
       "      <th>Output</th>\n",
       "    </tr>\n",
       "  </thead>\n",
       "  <tbody>\n",
       "    <tr>\n",
       "      <th>3</th>\n",
       "      <td>2015</td>\n",
       "      <td>Canada</td>\n",
       "      <td>Total refined petroleum products</td>\n",
       "      <td>Stock variation</td>\n",
       "      <td>v54272423</td>\n",
       "      <td>1.14.5</td>\n",
       "      <td>35833.0</td>\n",
       "      <td>Stock withdrawals</td>\n",
       "      <td>Refined petroleum products</td>\n",
       "    </tr>\n",
       "    <tr>\n",
       "      <th>4</th>\n",
       "      <td>2015</td>\n",
       "      <td>Canada</td>\n",
       "      <td>Gas plant natural gas liquids (NGL's)</td>\n",
       "      <td>Stock variation</td>\n",
       "      <td>v54272888</td>\n",
       "      <td>1.6.5</td>\n",
       "      <td>17653.0</td>\n",
       "      <td>Stock withdrawals</td>\n",
       "      <td>NGLs</td>\n",
       "    </tr>\n",
       "    <tr>\n",
       "      <th>5</th>\n",
       "      <td>2015</td>\n",
       "      <td>Canada</td>\n",
       "      <td>Coke</td>\n",
       "      <td>Stock variation</td>\n",
       "      <td>v54272370</td>\n",
       "      <td>1.10.5</td>\n",
       "      <td>2321.0</td>\n",
       "      <td>Stock withdrawals</td>\n",
       "      <td>Coal products</td>\n",
       "    </tr>\n",
       "  </tbody>\n",
       "</table>\n",
       "</div>"
      ],
      "text/plain": [
       "   Ref_Date     GEO                                   FUEL           SUPPLY  \\\n",
       "3      2015  Canada       Total refined petroleum products  Stock variation   \n",
       "4      2015  Canada  Gas plant natural gas liquids (NGL's)  Stock variation   \n",
       "5      2015  Canada                                   Coke  Stock variation   \n",
       "\n",
       "      Vector Coordinate    Value              Input  \\\n",
       "3  v54272423     1.14.5  35833.0  Stock withdrawals   \n",
       "4  v54272888      1.6.5  17653.0  Stock withdrawals   \n",
       "5  v54272370     1.10.5   2321.0  Stock withdrawals   \n",
       "\n",
       "                       Output  \n",
       "3  Refined petroleum products  \n",
       "4                        NGLs  \n",
       "5               Coal products  "
      ]
     },
     "execution_count": 15,
     "metadata": {},
     "output_type": "execute_result"
    }
   ],
   "source": [
    "df.loc[slicer, \"Input\"] = 'Stock withdrawals'\n",
    "df.loc[slicer, \"Value\"] = -df.loc[slicer, \"Value\"]\n",
    "df[slicer].head()"
   ]
  },
  {
   "cell_type": "markdown",
   "metadata": {},
   "source": [
    "## Other adjustments"
   ]
  },
  {
   "cell_type": "markdown",
   "metadata": {},
   "source": [
    "Positive 'Other adjustments' are switched to the 'Input' column and renamed to 'Other supplies'. Following instructions from Footnote 7 from CANSIM 128-0016."
   ]
  },
  {
   "cell_type": "code",
   "execution_count": 16,
   "metadata": {},
   "outputs": [
    {
     "data": {
      "text/html": [
       "<div>\n",
       "<style scoped>\n",
       "    .dataframe tbody tr th:only-of-type {\n",
       "        vertical-align: middle;\n",
       "    }\n",
       "\n",
       "    .dataframe tbody tr th {\n",
       "        vertical-align: top;\n",
       "    }\n",
       "\n",
       "    .dataframe thead th {\n",
       "        text-align: right;\n",
       "    }\n",
       "</style>\n",
       "<table border=\"1\" class=\"dataframe\">\n",
       "  <thead>\n",
       "    <tr style=\"text-align: right;\">\n",
       "      <th></th>\n",
       "      <th>Ref_Date</th>\n",
       "      <th>GEO</th>\n",
       "      <th>FUEL</th>\n",
       "      <th>SUPPLY</th>\n",
       "      <th>Vector</th>\n",
       "      <th>Coordinate</th>\n",
       "      <th>Value</th>\n",
       "      <th>Input</th>\n",
       "      <th>Output</th>\n",
       "    </tr>\n",
       "  </thead>\n",
       "  <tbody>\n",
       "    <tr>\n",
       "      <th>33</th>\n",
       "      <td>2015</td>\n",
       "      <td>Canada</td>\n",
       "      <td>Total coal</td>\n",
       "      <td>Other adjustments</td>\n",
       "      <td>v54325467</td>\n",
       "      <td>1.29.7</td>\n",
       "      <td>33469.0</td>\n",
       "      <td>Coal</td>\n",
       "      <td>Other adjustments</td>\n",
       "    </tr>\n",
       "    <tr>\n",
       "      <th>51</th>\n",
       "      <td>2015</td>\n",
       "      <td>Canada</td>\n",
       "      <td>Natural gas</td>\n",
       "      <td>Other adjustments</td>\n",
       "      <td>v54272865</td>\n",
       "      <td>1.5.7</td>\n",
       "      <td>187930.0</td>\n",
       "      <td>Natural gas</td>\n",
       "      <td>Other adjustments</td>\n",
       "    </tr>\n",
       "    <tr>\n",
       "      <th>72</th>\n",
       "      <td>2015</td>\n",
       "      <td>Canada</td>\n",
       "      <td>Crude oil</td>\n",
       "      <td>Other adjustments</td>\n",
       "      <td>v65584138</td>\n",
       "      <td>1.4.7</td>\n",
       "      <td>908378.0</td>\n",
       "      <td>Crude oil</td>\n",
       "      <td>Other adjustments</td>\n",
       "    </tr>\n",
       "  </tbody>\n",
       "</table>\n",
       "</div>"
      ],
      "text/plain": [
       "    Ref_Date     GEO         FUEL             SUPPLY     Vector Coordinate  \\\n",
       "33      2015  Canada   Total coal  Other adjustments  v54325467     1.29.7   \n",
       "51      2015  Canada  Natural gas  Other adjustments  v54272865      1.5.7   \n",
       "72      2015  Canada    Crude oil  Other adjustments  v65584138      1.4.7   \n",
       "\n",
       "       Value        Input             Output  \n",
       "33   33469.0         Coal  Other adjustments  \n",
       "51  187930.0  Natural gas  Other adjustments  \n",
       "72  908378.0    Crude oil  Other adjustments  "
      ]
     },
     "execution_count": 16,
     "metadata": {},
     "output_type": "execute_result"
    }
   ],
   "source": [
    "slicer = (df['Output'] == 'Other adjustments') & (df['Value'] >= 0)\n",
    "df[slicer].head()"
   ]
  },
  {
   "cell_type": "code",
   "execution_count": 17,
   "metadata": {},
   "outputs": [
    {
     "data": {
      "text/html": [
       "<div>\n",
       "<style scoped>\n",
       "    .dataframe tbody tr th:only-of-type {\n",
       "        vertical-align: middle;\n",
       "    }\n",
       "\n",
       "    .dataframe tbody tr th {\n",
       "        vertical-align: top;\n",
       "    }\n",
       "\n",
       "    .dataframe thead th {\n",
       "        text-align: right;\n",
       "    }\n",
       "</style>\n",
       "<table border=\"1\" class=\"dataframe\">\n",
       "  <thead>\n",
       "    <tr style=\"text-align: right;\">\n",
       "      <th></th>\n",
       "      <th>Ref_Date</th>\n",
       "      <th>GEO</th>\n",
       "      <th>FUEL</th>\n",
       "      <th>SUPPLY</th>\n",
       "      <th>Vector</th>\n",
       "      <th>Coordinate</th>\n",
       "      <th>Value</th>\n",
       "      <th>Input</th>\n",
       "      <th>Output</th>\n",
       "    </tr>\n",
       "  </thead>\n",
       "  <tbody>\n",
       "    <tr>\n",
       "      <th>33</th>\n",
       "      <td>2015</td>\n",
       "      <td>Canada</td>\n",
       "      <td>Total coal</td>\n",
       "      <td>Other adjustments</td>\n",
       "      <td>v54325467</td>\n",
       "      <td>1.29.7</td>\n",
       "      <td>33469.0</td>\n",
       "      <td>Other supplies</td>\n",
       "      <td>Coal</td>\n",
       "    </tr>\n",
       "    <tr>\n",
       "      <th>51</th>\n",
       "      <td>2015</td>\n",
       "      <td>Canada</td>\n",
       "      <td>Natural gas</td>\n",
       "      <td>Other adjustments</td>\n",
       "      <td>v54272865</td>\n",
       "      <td>1.5.7</td>\n",
       "      <td>187930.0</td>\n",
       "      <td>Other supplies</td>\n",
       "      <td>Natural gas</td>\n",
       "    </tr>\n",
       "    <tr>\n",
       "      <th>72</th>\n",
       "      <td>2015</td>\n",
       "      <td>Canada</td>\n",
       "      <td>Crude oil</td>\n",
       "      <td>Other adjustments</td>\n",
       "      <td>v65584138</td>\n",
       "      <td>1.4.7</td>\n",
       "      <td>908378.0</td>\n",
       "      <td>Other supplies</td>\n",
       "      <td>Crude oil</td>\n",
       "    </tr>\n",
       "  </tbody>\n",
       "</table>\n",
       "</div>"
      ],
      "text/plain": [
       "    Ref_Date     GEO         FUEL             SUPPLY     Vector Coordinate  \\\n",
       "33      2015  Canada   Total coal  Other adjustments  v54325467     1.29.7   \n",
       "51      2015  Canada  Natural gas  Other adjustments  v54272865      1.5.7   \n",
       "72      2015  Canada    Crude oil  Other adjustments  v65584138      1.4.7   \n",
       "\n",
       "       Value           Input       Output  \n",
       "33   33469.0  Other supplies         Coal  \n",
       "51  187930.0  Other supplies  Natural gas  \n",
       "72  908378.0  Other supplies    Crude oil  "
      ]
     },
     "execution_count": 17,
     "metadata": {},
     "output_type": "execute_result"
    }
   ],
   "source": [
    "df.loc[slicer, \"Output\"] = df.loc[slicer, \"Input\"]\n",
    "df.loc[slicer, \"Input\"] = 'Other supplies'\n",
    "df.loc[slicer].head()"
   ]
  },
  {
   "cell_type": "markdown",
   "metadata": {},
   "source": [
    "Negative 'Other adjustments' become 'Other losses' and the negative value becomes positive"
   ]
  },
  {
   "cell_type": "code",
   "execution_count": 18,
   "metadata": {},
   "outputs": [
    {
     "data": {
      "text/html": [
       "<div>\n",
       "<style scoped>\n",
       "    .dataframe tbody tr th:only-of-type {\n",
       "        vertical-align: middle;\n",
       "    }\n",
       "\n",
       "    .dataframe tbody tr th {\n",
       "        vertical-align: top;\n",
       "    }\n",
       "\n",
       "    .dataframe thead th {\n",
       "        text-align: right;\n",
       "    }\n",
       "</style>\n",
       "<table border=\"1\" class=\"dataframe\">\n",
       "  <thead>\n",
       "    <tr style=\"text-align: right;\">\n",
       "      <th></th>\n",
       "      <th>Ref_Date</th>\n",
       "      <th>GEO</th>\n",
       "      <th>FUEL</th>\n",
       "      <th>SUPPLY</th>\n",
       "      <th>Vector</th>\n",
       "      <th>Coordinate</th>\n",
       "      <th>Value</th>\n",
       "      <th>Input</th>\n",
       "      <th>Output</th>\n",
       "    </tr>\n",
       "  </thead>\n",
       "  <tbody>\n",
       "    <tr>\n",
       "      <th>1</th>\n",
       "      <td>2015</td>\n",
       "      <td>Canada</td>\n",
       "      <td>Gas plant natural gas liquids (NGL's)</td>\n",
       "      <td>Other adjustments</td>\n",
       "      <td>v54272889</td>\n",
       "      <td>1.6.7</td>\n",
       "      <td>-124573.0</td>\n",
       "      <td>NGLs</td>\n",
       "      <td>Other adjustments</td>\n",
       "    </tr>\n",
       "  </tbody>\n",
       "</table>\n",
       "</div>"
      ],
      "text/plain": [
       "   Ref_Date     GEO                                   FUEL             SUPPLY  \\\n",
       "1      2015  Canada  Gas plant natural gas liquids (NGL's)  Other adjustments   \n",
       "\n",
       "      Vector Coordinate     Value Input             Output  \n",
       "1  v54272889      1.6.7 -124573.0  NGLs  Other adjustments  "
      ]
     },
     "execution_count": 18,
     "metadata": {},
     "output_type": "execute_result"
    }
   ],
   "source": [
    "slicer = (df['Output'] == 'Other adjustments')& (df['Value'] < 0)\n",
    "df[slicer].head()"
   ]
  },
  {
   "cell_type": "code",
   "execution_count": 19,
   "metadata": {},
   "outputs": [
    {
     "data": {
      "text/html": [
       "<div>\n",
       "<style scoped>\n",
       "    .dataframe tbody tr th:only-of-type {\n",
       "        vertical-align: middle;\n",
       "    }\n",
       "\n",
       "    .dataframe tbody tr th {\n",
       "        vertical-align: top;\n",
       "    }\n",
       "\n",
       "    .dataframe thead th {\n",
       "        text-align: right;\n",
       "    }\n",
       "</style>\n",
       "<table border=\"1\" class=\"dataframe\">\n",
       "  <thead>\n",
       "    <tr style=\"text-align: right;\">\n",
       "      <th></th>\n",
       "      <th>Ref_Date</th>\n",
       "      <th>GEO</th>\n",
       "      <th>FUEL</th>\n",
       "      <th>SUPPLY</th>\n",
       "      <th>Vector</th>\n",
       "      <th>Coordinate</th>\n",
       "      <th>Value</th>\n",
       "      <th>Input</th>\n",
       "      <th>Output</th>\n",
       "    </tr>\n",
       "  </thead>\n",
       "  <tbody>\n",
       "    <tr>\n",
       "      <th>1</th>\n",
       "      <td>2015</td>\n",
       "      <td>Canada</td>\n",
       "      <td>Gas plant natural gas liquids (NGL's)</td>\n",
       "      <td>Other adjustments</td>\n",
       "      <td>v54272889</td>\n",
       "      <td>1.6.7</td>\n",
       "      <td>124573.0</td>\n",
       "      <td>NGLs</td>\n",
       "      <td>Other losses</td>\n",
       "    </tr>\n",
       "  </tbody>\n",
       "</table>\n",
       "</div>"
      ],
      "text/plain": [
       "   Ref_Date     GEO                                   FUEL             SUPPLY  \\\n",
       "1      2015  Canada  Gas plant natural gas liquids (NGL's)  Other adjustments   \n",
       "\n",
       "      Vector Coordinate     Value Input        Output  \n",
       "1  v54272889      1.6.7  124573.0  NGLs  Other losses  "
      ]
     },
     "execution_count": 19,
     "metadata": {},
     "output_type": "execute_result"
    }
   ],
   "source": [
    "df.loc[slicer, \"Output\"] = 'Other losses'\n",
    "df.loc[slicer, \"Value\"] = -df.loc[slicer, \"Value\"]\n",
    "df.loc[slicer].head()"
   ]
  },
  {
   "cell_type": "markdown",
   "metadata": {},
   "source": [
    "## Interproduct transfers"
   ]
  },
  {
   "cell_type": "markdown",
   "metadata": {},
   "source": [
    "Per footnote 5 in Table 128-0016, _Inter-product transfers_ \"Shows the transfer of similar products between different product forms; for example, still gas to natural gas, natural gas to produce hydrogen in petroleum refineries.\" Observations with negative values will have the \"Input\" and \"Output\" columns switched and have the positive values made positive. Bote that there are no 'Inter-product transfers' links with positive values, for this particular dataset."
   ]
  },
  {
   "cell_type": "code",
   "execution_count": 20,
   "metadata": {},
   "outputs": [
    {
     "data": {
      "text/html": [
       "<div>\n",
       "<style scoped>\n",
       "    .dataframe tbody tr th:only-of-type {\n",
       "        vertical-align: middle;\n",
       "    }\n",
       "\n",
       "    .dataframe tbody tr th {\n",
       "        vertical-align: top;\n",
       "    }\n",
       "\n",
       "    .dataframe thead th {\n",
       "        text-align: right;\n",
       "    }\n",
       "</style>\n",
       "<table border=\"1\" class=\"dataframe\">\n",
       "  <thead>\n",
       "    <tr style=\"text-align: right;\">\n",
       "      <th></th>\n",
       "      <th>Ref_Date</th>\n",
       "      <th>GEO</th>\n",
       "      <th>FUEL</th>\n",
       "      <th>SUPPLY</th>\n",
       "      <th>Vector</th>\n",
       "      <th>Coordinate</th>\n",
       "      <th>Value</th>\n",
       "      <th>Input</th>\n",
       "      <th>Output</th>\n",
       "    </tr>\n",
       "  </thead>\n",
       "  <tbody>\n",
       "  </tbody>\n",
       "</table>\n",
       "</div>"
      ],
      "text/plain": [
       "Empty DataFrame\n",
       "Columns: [Ref_Date, GEO, FUEL, SUPPLY, Vector, Coordinate, Value, Input, Output]\n",
       "Index: []"
      ]
     },
     "execution_count": 20,
     "metadata": {},
     "output_type": "execute_result"
    }
   ],
   "source": [
    "slicer = (df[\"Output\"] == 'Inter-product transfers') & (df['Value'] > 0)\n",
    "df[slicer]"
   ]
  },
  {
   "cell_type": "markdown",
   "metadata": {},
   "source": [
    "Now make necessary changes to links with negative values."
   ]
  },
  {
   "cell_type": "code",
   "execution_count": 21,
   "metadata": {},
   "outputs": [
    {
     "data": {
      "text/html": [
       "<div>\n",
       "<style scoped>\n",
       "    .dataframe tbody tr th:only-of-type {\n",
       "        vertical-align: middle;\n",
       "    }\n",
       "\n",
       "    .dataframe tbody tr th {\n",
       "        vertical-align: top;\n",
       "    }\n",
       "\n",
       "    .dataframe thead th {\n",
       "        text-align: right;\n",
       "    }\n",
       "</style>\n",
       "<table border=\"1\" class=\"dataframe\">\n",
       "  <thead>\n",
       "    <tr style=\"text-align: right;\">\n",
       "      <th></th>\n",
       "      <th>Ref_Date</th>\n",
       "      <th>GEO</th>\n",
       "      <th>FUEL</th>\n",
       "      <th>SUPPLY</th>\n",
       "      <th>Vector</th>\n",
       "      <th>Coordinate</th>\n",
       "      <th>Value</th>\n",
       "      <th>Input</th>\n",
       "      <th>Output</th>\n",
       "    </tr>\n",
       "  </thead>\n",
       "  <tbody>\n",
       "    <tr>\n",
       "      <th>0</th>\n",
       "      <td>2015</td>\n",
       "      <td>Canada</td>\n",
       "      <td>Total refined petroleum products</td>\n",
       "      <td>Inter-product transfers</td>\n",
       "      <td>v54272424</td>\n",
       "      <td>1.14.6</td>\n",
       "      <td>-386892.0</td>\n",
       "      <td>Refined petroleum products</td>\n",
       "      <td>Inter-product transfers</td>\n",
       "    </tr>\n",
       "    <tr>\n",
       "      <th>2</th>\n",
       "      <td>2015</td>\n",
       "      <td>Canada</td>\n",
       "      <td>Natural gas</td>\n",
       "      <td>Inter-product transfers</td>\n",
       "      <td>v54272864</td>\n",
       "      <td>1.5.6</td>\n",
       "      <td>-112297.0</td>\n",
       "      <td>Natural gas</td>\n",
       "      <td>Inter-product transfers</td>\n",
       "    </tr>\n",
       "  </tbody>\n",
       "</table>\n",
       "</div>"
      ],
      "text/plain": [
       "   Ref_Date     GEO                              FUEL  \\\n",
       "0      2015  Canada  Total refined petroleum products   \n",
       "2      2015  Canada                       Natural gas   \n",
       "\n",
       "                    SUPPLY     Vector Coordinate     Value  \\\n",
       "0  Inter-product transfers  v54272424     1.14.6 -386892.0   \n",
       "2  Inter-product transfers  v54272864      1.5.6 -112297.0   \n",
       "\n",
       "                        Input                   Output  \n",
       "0  Refined petroleum products  Inter-product transfers  \n",
       "2                 Natural gas  Inter-product transfers  "
      ]
     },
     "execution_count": 21,
     "metadata": {},
     "output_type": "execute_result"
    }
   ],
   "source": [
    "slicer = (df[\"Output\"] == 'Inter-product transfers') & (df['Value'] < 0)\n",
    "df[slicer].head()"
   ]
  },
  {
   "cell_type": "code",
   "execution_count": 22,
   "metadata": {},
   "outputs": [
    {
     "data": {
      "text/html": [
       "<div>\n",
       "<style scoped>\n",
       "    .dataframe tbody tr th:only-of-type {\n",
       "        vertical-align: middle;\n",
       "    }\n",
       "\n",
       "    .dataframe tbody tr th {\n",
       "        vertical-align: top;\n",
       "    }\n",
       "\n",
       "    .dataframe thead th {\n",
       "        text-align: right;\n",
       "    }\n",
       "</style>\n",
       "<table border=\"1\" class=\"dataframe\">\n",
       "  <thead>\n",
       "    <tr style=\"text-align: right;\">\n",
       "      <th></th>\n",
       "      <th>Ref_Date</th>\n",
       "      <th>GEO</th>\n",
       "      <th>FUEL</th>\n",
       "      <th>SUPPLY</th>\n",
       "      <th>Vector</th>\n",
       "      <th>Coordinate</th>\n",
       "      <th>Value</th>\n",
       "      <th>Input</th>\n",
       "      <th>Output</th>\n",
       "    </tr>\n",
       "  </thead>\n",
       "  <tbody>\n",
       "    <tr>\n",
       "      <th>0</th>\n",
       "      <td>2015</td>\n",
       "      <td>Canada</td>\n",
       "      <td>Total refined petroleum products</td>\n",
       "      <td>Inter-product transfers</td>\n",
       "      <td>v54272424</td>\n",
       "      <td>1.14.6</td>\n",
       "      <td>386892.0</td>\n",
       "      <td>Inter-product transfers</td>\n",
       "      <td>Refined petroleum products</td>\n",
       "    </tr>\n",
       "    <tr>\n",
       "      <th>2</th>\n",
       "      <td>2015</td>\n",
       "      <td>Canada</td>\n",
       "      <td>Natural gas</td>\n",
       "      <td>Inter-product transfers</td>\n",
       "      <td>v54272864</td>\n",
       "      <td>1.5.6</td>\n",
       "      <td>112297.0</td>\n",
       "      <td>Inter-product transfers</td>\n",
       "      <td>Natural gas</td>\n",
       "    </tr>\n",
       "  </tbody>\n",
       "</table>\n",
       "</div>"
      ],
      "text/plain": [
       "   Ref_Date     GEO                              FUEL  \\\n",
       "0      2015  Canada  Total refined petroleum products   \n",
       "2      2015  Canada                       Natural gas   \n",
       "\n",
       "                    SUPPLY     Vector Coordinate     Value  \\\n",
       "0  Inter-product transfers  v54272424     1.14.6  386892.0   \n",
       "2  Inter-product transfers  v54272864      1.5.6  112297.0   \n",
       "\n",
       "                     Input                      Output  \n",
       "0  Inter-product transfers  Refined petroleum products  \n",
       "2  Inter-product transfers                 Natural gas  "
      ]
     },
     "execution_count": 22,
     "metadata": {},
     "output_type": "execute_result"
    }
   ],
   "source": [
    "df.loc[slicer, \"Value\"] = -df.loc[slicer, \"Value\"]\n",
    "df.loc[slicer, \"Output\"] = df.loc[slicer, 'Input']\n",
    "df.loc[slicer, \"Input\"] = 'Inter-product transfers'\n",
    "df.loc[slicer].head()"
   ]
  },
  {
   "cell_type": "markdown",
   "metadata": {},
   "source": [
    "## Rename"
   ]
  },
  {
   "cell_type": "markdown",
   "metadata": {},
   "source": [
    "Rename some of the nodes to have slightly shorter names as well as to group some smaller steps in the supply chain. This will make things easier to display."
   ]
  },
  {
   "cell_type": "code",
   "execution_count": 23,
   "metadata": {},
   "outputs": [
    {
     "data": {
      "text/plain": [
       "array(['Refined petroleum products', 'Other losses', 'Natural gas',\n",
       "       'NGLs', 'Coal products', 'Statistical difference',\n",
       "       'Producer consumption', 'Secondary electricity, thermal',\n",
       "       'Residential', 'Non-energy use', 'Agriculture', 'Stock deposits',\n",
       "       'Primary electricity, hydro and nuclear', 'Total transportation',\n",
       "       'Total industrial', 'Public administration', 'Coal',\n",
       "       'Commercial and other institutional', 'Exports',\n",
       "       'Electricity generation', 'Crude oil'], dtype=object)"
      ]
     },
     "execution_count": 23,
     "metadata": {},
     "output_type": "execute_result"
    }
   ],
   "source": [
    "df[\"Output\"].unique()"
   ]
  },
  {
   "cell_type": "code",
   "execution_count": 24,
   "metadata": {},
   "outputs": [],
   "source": [
    "mapper_dict = {\"Primary electricity, hydro and nuclear\":\"Primary electricity\",\n",
    "               \"Refined petroleum products\":\"Refined petroleum\",\n",
    "               \"Secondary electricity, thermal\":\"Secondary electricity\",\n",
    "               \"Public administration\":\"Other services\",\n",
    "               \"Commercial and other institutional\":\"Other services\",\n",
    "               \"Residential\":\"Other services\"}\n",
    "def mapper(src):\n",
    "    return mapper_dict.get(src, src)\n",
    "\n",
    "df[\"Input\"] = df[\"Input\"].map(mapper)\n",
    "df[\"Output\"] = df[\"Output\"].map(mapper)"
   ]
  },
  {
   "cell_type": "markdown",
   "metadata": {},
   "source": [
    "## Final Cleaning"
   ]
  },
  {
   "cell_type": "markdown",
   "metadata": {},
   "source": [
    "The final cleaning involves dropping observations with 0 values, and also Statistical Difference since it is not very informative."
   ]
  },
  {
   "cell_type": "code",
   "execution_count": 25,
   "metadata": {},
   "outputs": [],
   "source": [
    "df = df[df[\"Output\"] != \"Statistical difference\"]"
   ]
  },
  {
   "cell_type": "code",
   "execution_count": 26,
   "metadata": {},
   "outputs": [],
   "source": [
    "df = df[df[\"Value\"] > 0]"
   ]
  },
  {
   "cell_type": "code",
   "execution_count": 27,
   "metadata": {},
   "outputs": [],
   "source": [
    "#sum to make certain unique links\n",
    "df = df[[\"Input\", \"Output\", \"Value\"]].groupby([\"Input\", \"Output\"], as_index=False).sum()"
   ]
  },
  {
   "cell_type": "markdown",
   "metadata": {},
   "source": [
    "# Output JSONs"
   ]
  },
  {
   "cell_type": "markdown",
   "metadata": {},
   "source": [
    "The final step is to output the Pandas data frame into to two JSON files that can be read by the D3 visualization. Start by creating unique nodes."
   ]
  },
  {
   "cell_type": "code",
   "execution_count": 28,
   "metadata": {},
   "outputs": [],
   "source": [
    "nodes = pd.concat([df[\"Input\"], df[\"Output\"]]).unique()\n",
    "node_dict = {node:i for i, node in enumerate(nodes)}"
   ]
  },
  {
   "cell_type": "code",
   "execution_count": 29,
   "metadata": {},
   "outputs": [
    {
     "data": {
      "text/html": [
       "<div>\n",
       "<style scoped>\n",
       "    .dataframe tbody tr th:only-of-type {\n",
       "        vertical-align: middle;\n",
       "    }\n",
       "\n",
       "    .dataframe tbody tr th {\n",
       "        vertical-align: top;\n",
       "    }\n",
       "\n",
       "    .dataframe thead th {\n",
       "        text-align: right;\n",
       "    }\n",
       "</style>\n",
       "<table border=\"1\" class=\"dataframe\">\n",
       "  <thead>\n",
       "    <tr style=\"text-align: right;\">\n",
       "      <th></th>\n",
       "      <th>Input</th>\n",
       "      <th>Output</th>\n",
       "      <th>Value</th>\n",
       "      <th>source</th>\n",
       "      <th>target</th>\n",
       "    </tr>\n",
       "  </thead>\n",
       "  <tbody>\n",
       "    <tr>\n",
       "      <th>0</th>\n",
       "      <td>Coal</td>\n",
       "      <td>Coal products</td>\n",
       "      <td>87307.0</td>\n",
       "      <td>0</td>\n",
       "      <td>1</td>\n",
       "    </tr>\n",
       "    <tr>\n",
       "      <th>1</th>\n",
       "      <td>Coal</td>\n",
       "      <td>Exports</td>\n",
       "      <td>712731.0</td>\n",
       "      <td>0</td>\n",
       "      <td>20</td>\n",
       "    </tr>\n",
       "    <tr>\n",
       "      <th>2</th>\n",
       "      <td>Coal</td>\n",
       "      <td>Non-energy use</td>\n",
       "      <td>2383.0</td>\n",
       "      <td>0</td>\n",
       "      <td>21</td>\n",
       "    </tr>\n",
       "    <tr>\n",
       "      <th>3</th>\n",
       "      <td>Coal</td>\n",
       "      <td>Other services</td>\n",
       "      <td>305.0</td>\n",
       "      <td>0</td>\n",
       "      <td>22</td>\n",
       "    </tr>\n",
       "    <tr>\n",
       "      <th>4</th>\n",
       "      <td>Coal</td>\n",
       "      <td>Producer consumption</td>\n",
       "      <td>11.0</td>\n",
       "      <td>0</td>\n",
       "      <td>23</td>\n",
       "    </tr>\n",
       "  </tbody>\n",
       "</table>\n",
       "</div>"
      ],
      "text/plain": [
       "  Input                Output     Value  source  target\n",
       "0  Coal         Coal products   87307.0       0       1\n",
       "1  Coal               Exports  712731.0       0      20\n",
       "2  Coal        Non-energy use    2383.0       0      21\n",
       "3  Coal        Other services     305.0       0      22\n",
       "4  Coal  Producer consumption      11.0       0      23"
      ]
     },
     "execution_count": 29,
     "metadata": {},
     "output_type": "execute_result"
    }
   ],
   "source": [
    "df[\"source\"] = df[\"Input\"].map(node_dict).astype(int)\n",
    "df[\"target\"] = df[\"Output\"].map(node_dict).astype(int)\n",
    "df.head()"
   ]
  },
  {
   "cell_type": "code",
   "execution_count": 30,
   "metadata": {},
   "outputs": [],
   "source": [
    "#make value column lower case\n",
    "df=df.rename(columns={\"Value\":\"value\"})"
   ]
  },
  {
   "cell_type": "code",
   "execution_count": 31,
   "metadata": {},
   "outputs": [],
   "source": [
    "#make nodes into a list of dicts\n",
    "nodes_json = [dict(name=node) for node in nodes]\n",
    "links_json = df[[\"source\", \"target\", \"value\"]].to_dict(orient=\"records\")"
   ]
  },
  {
   "cell_type": "code",
   "execution_count": 32,
   "metadata": {},
   "outputs": [],
   "source": [
    "#json.dump doesn't like numpy dtypes\n",
    "for link in links_json:\n",
    "    link[\"source\"] = int(link[\"source\"])\n",
    "    link[\"target\"] = int(link[\"target\"])\n",
    "    link[\"value\"] = int(link[\"value\"])"
   ]
  },
  {
   "cell_type": "code",
   "execution_count": 33,
   "metadata": {},
   "outputs": [],
   "source": [
    "json_output = {\"links\":links_json,\n",
    "    \"nodes\":nodes_json,\n",
    "              }"
   ]
  },
  {
   "cell_type": "code",
   "execution_count": 34,
   "metadata": {},
   "outputs": [],
   "source": [
    "#now output\n",
    "with open(OUT_FILE, 'w') as fp:\n",
    "    json.dump(json_output, fp, indent=0)"
   ]
  },
  {
   "cell_type": "code",
   "execution_count": null,
   "metadata": {},
   "outputs": [],
   "source": []
  }
 ],
 "metadata": {
  "kernelspec": {
   "display_name": "Python 3",
   "language": "python",
   "name": "python3"
  },
  "language_info": {
   "codemirror_mode": {
    "name": "ipython",
    "version": 3
   },
   "file_extension": ".py",
   "mimetype": "text/x-python",
   "name": "python",
   "nbconvert_exporter": "python",
   "pygments_lexer": "ipython3",
   "version": "3.6.4"
  }
 },
 "nbformat": 4,
 "nbformat_minor": 2
}
