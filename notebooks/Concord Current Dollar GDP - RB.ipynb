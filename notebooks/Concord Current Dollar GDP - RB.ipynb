{
 "cells": [
  {
   "cell_type": "code",
   "execution_count": 1,
   "metadata": {},
   "outputs": [
    {
     "data": {
      "text/html": [
       "<script>requirejs.config({paths: { 'plotly': ['https://cdn.plot.ly/plotly-latest.min']},});if(!window.Plotly) {{require(['plotly'],function(plotly) {window.Plotly=plotly;});}}</script>"
      ],
      "text/vnd.plotly.v1+html": [
       "<script>requirejs.config({paths: { 'plotly': ['https://cdn.plot.ly/plotly-latest.min']},});if(!window.Plotly) {{require(['plotly'],function(plotly) {window.Plotly=plotly;});}}</script>"
      ]
     },
     "metadata": {},
     "output_type": "display_data"
    }
   ],
   "source": [
    "import pandas as pd\n",
    "import numpy as np\n",
    "import colorlover as cl\n",
    "import plotly.offline as plt\n",
    "import plotly.graph_objs as go\n",
    "plt.init_notebook_mode(connected=True)"
   ]
  },
  {
   "cell_type": "code",
   "execution_count": 2,
   "metadata": {},
   "outputs": [],
   "source": [
    "data_dir = \"../data/\""
   ]
  },
  {
   "cell_type": "markdown",
   "metadata": {},
   "source": [
    "# Inititial Cleaning"
   ]
  },
  {
   "cell_type": "markdown",
   "metadata": {},
   "source": [
    "## Energy"
   ]
  },
  {
   "cell_type": "code",
   "execution_count": 3,
   "metadata": {},
   "outputs": [],
   "source": [
    "energy_df = pd.read_csv(data_dir+\"01280016_energy.csv\")\n",
    "#only keep interesting variables\n",
    "energy_df = energy_df[[\"Ref_Date\", \"GEO\", \"SUPPLY\", \"Value\"]]"
   ]
  },
  {
   "cell_type": "code",
   "execution_count": 4,
   "metadata": {},
   "outputs": [
    {
     "data": {
      "text/html": [
       "<div>\n",
       "<style scoped>\n",
       "    .dataframe tbody tr th:only-of-type {\n",
       "        vertical-align: middle;\n",
       "    }\n",
       "\n",
       "    .dataframe tbody tr th {\n",
       "        vertical-align: top;\n",
       "    }\n",
       "\n",
       "    .dataframe thead th {\n",
       "        text-align: right;\n",
       "    }\n",
       "</style>\n",
       "<table border=\"1\" class=\"dataframe\">\n",
       "  <thead>\n",
       "    <tr style=\"text-align: right;\">\n",
       "      <th></th>\n",
       "      <th>Ref_Date</th>\n",
       "      <th>GEO</th>\n",
       "      <th>SUPPLY</th>\n",
       "      <th>Value</th>\n",
       "      <th>energy_value</th>\n",
       "    </tr>\n",
       "  </thead>\n",
       "  <tbody>\n",
       "    <tr>\n",
       "      <th>0</th>\n",
       "      <td>1995</td>\n",
       "      <td>Canada</td>\n",
       "      <td>Exports</td>\n",
       "      <td>7484910.0</td>\n",
       "      <td>7484910.0</td>\n",
       "    </tr>\n",
       "    <tr>\n",
       "      <th>1</th>\n",
       "      <td>1996</td>\n",
       "      <td>Canada</td>\n",
       "      <td>Exports</td>\n",
       "      <td>7645044.0</td>\n",
       "      <td>7645044.0</td>\n",
       "    </tr>\n",
       "    <tr>\n",
       "      <th>2</th>\n",
       "      <td>1997</td>\n",
       "      <td>Canada</td>\n",
       "      <td>Exports</td>\n",
       "      <td>8081678.0</td>\n",
       "      <td>8081678.0</td>\n",
       "    </tr>\n",
       "    <tr>\n",
       "      <th>3</th>\n",
       "      <td>1998</td>\n",
       "      <td>Canada</td>\n",
       "      <td>Exports</td>\n",
       "      <td>8467485.0</td>\n",
       "      <td>8467485.0</td>\n",
       "    </tr>\n",
       "    <tr>\n",
       "      <th>4</th>\n",
       "      <td>1999</td>\n",
       "      <td>Canada</td>\n",
       "      <td>Exports</td>\n",
       "      <td>8485988.0</td>\n",
       "      <td>8485988.0</td>\n",
       "    </tr>\n",
       "  </tbody>\n",
       "</table>\n",
       "</div>"
      ],
      "text/plain": [
       "   Ref_Date     GEO   SUPPLY      Value  energy_value\n",
       "0      1995  Canada  Exports  7484910.0     7484910.0\n",
       "1      1996  Canada  Exports  7645044.0     7645044.0\n",
       "2      1997  Canada  Exports  8081678.0     8081678.0\n",
       "3      1998  Canada  Exports  8467485.0     8467485.0\n",
       "4      1999  Canada  Exports  8485988.0     8485988.0"
      ]
     },
     "execution_count": 4,
     "metadata": {},
     "output_type": "execute_result"
    }
   ],
   "source": [
    "#some cleaning\n",
    "#conver value to numeric\n",
    "#droppping supporessed and missing (whic are coecerd to NaN)\n",
    "energy_df[\"energy_value\"] = pd.to_numeric(energy_df.Value, errors='coerce')\n",
    "energy_df = energy_df[energy_df[\"energy_value\"].notnull()]\n",
    "#drop 0s\n",
    "energy_df = energy_df[energy_df[\"energy_value\"] > 0]\n",
    "energy_df.head()"
   ]
  },
  {
   "cell_type": "markdown",
   "metadata": {},
   "source": [
    "## GDP"
   ]
  },
  {
   "cell_type": "code",
   "execution_count": 5,
   "metadata": {},
   "outputs": [
    {
     "data": {
      "text/html": [
       "<div>\n",
       "<style scoped>\n",
       "    .dataframe tbody tr th:only-of-type {\n",
       "        vertical-align: middle;\n",
       "    }\n",
       "\n",
       "    .dataframe tbody tr th {\n",
       "        vertical-align: top;\n",
       "    }\n",
       "\n",
       "    .dataframe thead th {\n",
       "        text-align: right;\n",
       "    }\n",
       "</style>\n",
       "<table border=\"1\" class=\"dataframe\">\n",
       "  <thead>\n",
       "    <tr style=\"text-align: right;\">\n",
       "      <th></th>\n",
       "      <th>Ref_Date</th>\n",
       "      <th>GEO</th>\n",
       "      <th>VALUE</th>\n",
       "      <th>NAICS</th>\n",
       "      <th>Vector</th>\n",
       "      <th>Coordinate</th>\n",
       "      <th>Value</th>\n",
       "    </tr>\n",
       "  </thead>\n",
       "  <tbody>\n",
       "    <tr>\n",
       "      <th>0</th>\n",
       "      <td>1997</td>\n",
       "      <td>Newfoundland and Labrador</td>\n",
       "      <td>Current dollars</td>\n",
       "      <td>All industries (x 1,000,000)</td>\n",
       "      <td>v62460554</td>\n",
       "      <td>1.1.1</td>\n",
       "      <td>..</td>\n",
       "    </tr>\n",
       "    <tr>\n",
       "      <th>1</th>\n",
       "      <td>1998</td>\n",
       "      <td>Newfoundland and Labrador</td>\n",
       "      <td>Current dollars</td>\n",
       "      <td>All industries (x 1,000,000)</td>\n",
       "      <td>v62460554</td>\n",
       "      <td>1.1.1</td>\n",
       "      <td>..</td>\n",
       "    </tr>\n",
       "    <tr>\n",
       "      <th>2</th>\n",
       "      <td>1999</td>\n",
       "      <td>Newfoundland and Labrador</td>\n",
       "      <td>Current dollars</td>\n",
       "      <td>All industries (x 1,000,000)</td>\n",
       "      <td>v62460554</td>\n",
       "      <td>1.1.1</td>\n",
       "      <td>..</td>\n",
       "    </tr>\n",
       "    <tr>\n",
       "      <th>3</th>\n",
       "      <td>2000</td>\n",
       "      <td>Newfoundland and Labrador</td>\n",
       "      <td>Current dollars</td>\n",
       "      <td>All industries (x 1,000,000)</td>\n",
       "      <td>v62460554</td>\n",
       "      <td>1.1.1</td>\n",
       "      <td>..</td>\n",
       "    </tr>\n",
       "    <tr>\n",
       "      <th>4</th>\n",
       "      <td>2001</td>\n",
       "      <td>Newfoundland and Labrador</td>\n",
       "      <td>Current dollars</td>\n",
       "      <td>All industries (x 1,000,000)</td>\n",
       "      <td>v62460554</td>\n",
       "      <td>1.1.1</td>\n",
       "      <td>..</td>\n",
       "    </tr>\n",
       "  </tbody>\n",
       "</table>\n",
       "</div>"
      ],
      "text/plain": [
       "   Ref_Date                        GEO            VALUE  \\\n",
       "0      1997  Newfoundland and Labrador  Current dollars   \n",
       "1      1998  Newfoundland and Labrador  Current dollars   \n",
       "2      1999  Newfoundland and Labrador  Current dollars   \n",
       "3      2000  Newfoundland and Labrador  Current dollars   \n",
       "4      2001  Newfoundland and Labrador  Current dollars   \n",
       "\n",
       "                          NAICS     Vector Coordinate Value  \n",
       "0  All industries (x 1,000,000)  v62460554      1.1.1    ..  \n",
       "1  All industries (x 1,000,000)  v62460554      1.1.1    ..  \n",
       "2  All industries (x 1,000,000)  v62460554      1.1.1    ..  \n",
       "3  All industries (x 1,000,000)  v62460554      1.1.1    ..  \n",
       "4  All industries (x 1,000,000)  v62460554      1.1.1    ..  "
      ]
     },
     "execution_count": 5,
     "metadata": {},
     "output_type": "execute_result"
    }
   ],
   "source": [
    "gdp_df = pd.read_csv(data_dir+\"03790030-eng_gdp.csv\")\n",
    "gdp_df.head()"
   ]
  },
  {
   "cell_type": "code",
   "execution_count": 6,
   "metadata": {},
   "outputs": [],
   "source": [
    "#some cleaning\n",
    "#conver value to numeric\n",
    "#droppping supporessed and missing (whic are coecerd to NaN)\n",
    "gdp_df[\"value\"] = pd.to_numeric(gdp_df.Value, errors='coerce')\n",
    "gdp_df = gdp_df[gdp_df[\"value\"].notnull()]\n",
    "#drop 0s\n",
    "gdp_df = gdp_df[gdp_df[\"value\"] > 0]\n",
    "#only want current dollars\n",
    "gdp_df = gdp_df[gdp_df[\"VALUE\"] == \"Current dollars\"]"
   ]
  },
  {
   "cell_type": "code",
   "execution_count": 7,
   "metadata": {},
   "outputs": [
    {
     "data": {
      "text/html": [
       "<div>\n",
       "<style scoped>\n",
       "    .dataframe tbody tr th:only-of-type {\n",
       "        vertical-align: middle;\n",
       "    }\n",
       "\n",
       "    .dataframe tbody tr th {\n",
       "        vertical-align: top;\n",
       "    }\n",
       "\n",
       "    .dataframe thead th {\n",
       "        text-align: right;\n",
       "    }\n",
       "</style>\n",
       "<table border=\"1\" class=\"dataframe\">\n",
       "  <thead>\n",
       "    <tr style=\"text-align: right;\">\n",
       "      <th></th>\n",
       "      <th>Ref_Date</th>\n",
       "      <th>GEO</th>\n",
       "      <th>VALUE</th>\n",
       "      <th>NAICS</th>\n",
       "      <th>Vector</th>\n",
       "      <th>Coordinate</th>\n",
       "      <th>Value</th>\n",
       "      <th>value</th>\n",
       "    </tr>\n",
       "  </thead>\n",
       "  <tbody>\n",
       "    <tr>\n",
       "      <th>10</th>\n",
       "      <td>2007</td>\n",
       "      <td>Newfoundland and Labrador</td>\n",
       "      <td>Current dollars</td>\n",
       "      <td>All industries</td>\n",
       "      <td>v62460554</td>\n",
       "      <td>1.1.1</td>\n",
       "      <td>27349.4</td>\n",
       "      <td>27349.4</td>\n",
       "    </tr>\n",
       "    <tr>\n",
       "      <th>11</th>\n",
       "      <td>2008</td>\n",
       "      <td>Newfoundland and Labrador</td>\n",
       "      <td>Current dollars</td>\n",
       "      <td>All industries</td>\n",
       "      <td>v62460554</td>\n",
       "      <td>1.1.1</td>\n",
       "      <td>29867.3</td>\n",
       "      <td>29867.3</td>\n",
       "    </tr>\n",
       "    <tr>\n",
       "      <th>12</th>\n",
       "      <td>2009</td>\n",
       "      <td>Newfoundland and Labrador</td>\n",
       "      <td>Current dollars</td>\n",
       "      <td>All industries</td>\n",
       "      <td>v62460554</td>\n",
       "      <td>1.1.1</td>\n",
       "      <td>23223.2</td>\n",
       "      <td>23223.2</td>\n",
       "    </tr>\n",
       "    <tr>\n",
       "      <th>13</th>\n",
       "      <td>2010</td>\n",
       "      <td>Newfoundland and Labrador</td>\n",
       "      <td>Current dollars</td>\n",
       "      <td>All industries</td>\n",
       "      <td>v62460554</td>\n",
       "      <td>1.1.1</td>\n",
       "      <td>27161.8</td>\n",
       "      <td>27161.8</td>\n",
       "    </tr>\n",
       "    <tr>\n",
       "      <th>14</th>\n",
       "      <td>2011</td>\n",
       "      <td>Newfoundland and Labrador</td>\n",
       "      <td>Current dollars</td>\n",
       "      <td>All industries</td>\n",
       "      <td>v62460554</td>\n",
       "      <td>1.1.1</td>\n",
       "      <td>31591.2</td>\n",
       "      <td>31591.2</td>\n",
       "    </tr>\n",
       "  </tbody>\n",
       "</table>\n",
       "</div>"
      ],
      "text/plain": [
       "    Ref_Date                        GEO            VALUE           NAICS  \\\n",
       "10      2007  Newfoundland and Labrador  Current dollars  All industries   \n",
       "11      2008  Newfoundland and Labrador  Current dollars  All industries   \n",
       "12      2009  Newfoundland and Labrador  Current dollars  All industries   \n",
       "13      2010  Newfoundland and Labrador  Current dollars  All industries   \n",
       "14      2011  Newfoundland and Labrador  Current dollars  All industries   \n",
       "\n",
       "       Vector Coordinate    Value    value  \n",
       "10  v62460554      1.1.1  27349.4  27349.4  \n",
       "11  v62460554      1.1.1  29867.3  29867.3  \n",
       "12  v62460554      1.1.1  23223.2  23223.2  \n",
       "13  v62460554      1.1.1  27161.8  27161.8  \n",
       "14  v62460554      1.1.1  31591.2  31591.2  "
      ]
     },
     "execution_count": 7,
     "metadata": {},
     "output_type": "execute_result"
    }
   ],
   "source": [
    "#need to remove trailing (\"x 1,000,000\")\n",
    "gdp_df[\"NAICS\"] = gdp_df.NAICS.str.replace(\"\\(x 1,000,000\\)\", \"\")\n",
    "gdp_df[\"NAICS\"] = gdp_df[\"NAICS\"].str.strip()\n",
    "gdp_df.head()"
   ]
  },
  {
   "cell_type": "markdown",
   "metadata": {},
   "source": [
    "# Concord"
   ]
  },
  {
   "cell_type": "code",
   "execution_count": 8,
   "metadata": {},
   "outputs": [],
   "source": [
    "#read in concordances\n",
    "energy_concordance = pd.read_csv(data_dir+\"energy_concordance.csv\")\n",
    "gdp_concordance = pd.read_csv(data_dir+\"gdp_concordance.csv\")"
   ]
  },
  {
   "cell_type": "markdown",
   "metadata": {},
   "source": [
    "## Energy"
   ]
  },
  {
   "cell_type": "code",
   "execution_count": 9,
   "metadata": {},
   "outputs": [
    {
     "data": {
      "text/html": [
       "<div>\n",
       "<style scoped>\n",
       "    .dataframe tbody tr th:only-of-type {\n",
       "        vertical-align: middle;\n",
       "    }\n",
       "\n",
       "    .dataframe tbody tr th {\n",
       "        vertical-align: top;\n",
       "    }\n",
       "\n",
       "    .dataframe thead th {\n",
       "        text-align: right;\n",
       "    }\n",
       "</style>\n",
       "<table border=\"1\" class=\"dataframe\">\n",
       "  <thead>\n",
       "    <tr style=\"text-align: right;\">\n",
       "      <th></th>\n",
       "      <th>Ref_Date</th>\n",
       "      <th>GEO</th>\n",
       "      <th>energy_value</th>\n",
       "      <th>our_label</th>\n",
       "    </tr>\n",
       "  </thead>\n",
       "  <tbody>\n",
       "    <tr>\n",
       "      <th>0</th>\n",
       "      <td>1995</td>\n",
       "      <td>Canada</td>\n",
       "      <td>2109278.0</td>\n",
       "      <td>Total industrial</td>\n",
       "    </tr>\n",
       "    <tr>\n",
       "      <th>1</th>\n",
       "      <td>1996</td>\n",
       "      <td>Canada</td>\n",
       "      <td>2157590.0</td>\n",
       "      <td>Total industrial</td>\n",
       "    </tr>\n",
       "    <tr>\n",
       "      <th>2</th>\n",
       "      <td>1997</td>\n",
       "      <td>Canada</td>\n",
       "      <td>2202317.0</td>\n",
       "      <td>Total industrial</td>\n",
       "    </tr>\n",
       "    <tr>\n",
       "      <th>3</th>\n",
       "      <td>1998</td>\n",
       "      <td>Canada</td>\n",
       "      <td>2144147.0</td>\n",
       "      <td>Total industrial</td>\n",
       "    </tr>\n",
       "    <tr>\n",
       "      <th>4</th>\n",
       "      <td>1999</td>\n",
       "      <td>Canada</td>\n",
       "      <td>2175238.0</td>\n",
       "      <td>Total industrial</td>\n",
       "    </tr>\n",
       "  </tbody>\n",
       "</table>\n",
       "</div>"
      ],
      "text/plain": [
       "   Ref_Date     GEO  energy_value         our_label\n",
       "0      1995  Canada     2109278.0  Total industrial\n",
       "1      1996  Canada     2157590.0  Total industrial\n",
       "2      1997  Canada     2202317.0  Total industrial\n",
       "3      1998  Canada     2144147.0  Total industrial\n",
       "4      1999  Canada     2175238.0  Total industrial"
      ]
     },
     "execution_count": 9,
     "metadata": {},
     "output_type": "execute_result"
    }
   ],
   "source": [
    "#now merge energy concordance\n",
    "energy_concorded = energy_df.merge(energy_concordance, left_on=\"SUPPLY\", right_on=\"energy_label\")\n",
    "#keep only variables of interests\n",
    "energy_concorded = energy_concorded[['Ref_Date', 'GEO', 'energy_value', 'our_label']]\n",
    "energy_concorded.head()"
   ]
  },
  {
   "cell_type": "code",
   "execution_count": 10,
   "metadata": {},
   "outputs": [
    {
     "name": "stdout",
     "output_type": "stream",
     "text": [
      "concorded energy data frame has 6017 observations\n"
     ]
    },
    {
     "data": {
      "text/html": [
       "<div>\n",
       "<style scoped>\n",
       "    .dataframe tbody tr th:only-of-type {\n",
       "        vertical-align: middle;\n",
       "    }\n",
       "\n",
       "    .dataframe tbody tr th {\n",
       "        vertical-align: top;\n",
       "    }\n",
       "\n",
       "    .dataframe thead th {\n",
       "        text-align: right;\n",
       "    }\n",
       "</style>\n",
       "<table border=\"1\" class=\"dataframe\">\n",
       "  <thead>\n",
       "    <tr style=\"text-align: right;\">\n",
       "      <th></th>\n",
       "      <th>Ref_Date</th>\n",
       "      <th>GEO</th>\n",
       "      <th>our_label</th>\n",
       "      <th>energy_value</th>\n",
       "    </tr>\n",
       "  </thead>\n",
       "  <tbody>\n",
       "    <tr>\n",
       "      <th>0</th>\n",
       "      <td>1995</td>\n",
       "      <td>Alberta</td>\n",
       "      <td>Agriculture</td>\n",
       "      <td>129036.0</td>\n",
       "    </tr>\n",
       "    <tr>\n",
       "      <th>1</th>\n",
       "      <td>1995</td>\n",
       "      <td>Alberta</td>\n",
       "      <td>All other manufacturing</td>\n",
       "      <td>161671.0</td>\n",
       "    </tr>\n",
       "    <tr>\n",
       "      <th>2</th>\n",
       "      <td>1995</td>\n",
       "      <td>Alberta</td>\n",
       "      <td>Chemicals and fertilizers manufacturing</td>\n",
       "      <td>261299.0</td>\n",
       "    </tr>\n",
       "    <tr>\n",
       "      <th>3</th>\n",
       "      <td>1995</td>\n",
       "      <td>Alberta</td>\n",
       "      <td>Commercial and other institutional</td>\n",
       "      <td>343982.0</td>\n",
       "    </tr>\n",
       "    <tr>\n",
       "      <th>4</th>\n",
       "      <td>1995</td>\n",
       "      <td>Alberta</td>\n",
       "      <td>Construction</td>\n",
       "      <td>27030.0</td>\n",
       "    </tr>\n",
       "  </tbody>\n",
       "</table>\n",
       "</div>"
      ],
      "text/plain": [
       "   Ref_Date      GEO                                our_label  energy_value\n",
       "0      1995  Alberta                              Agriculture      129036.0\n",
       "1      1995  Alberta                  All other manufacturing      161671.0\n",
       "2      1995  Alberta  Chemicals and fertilizers manufacturing      261299.0\n",
       "3      1995  Alberta       Commercial and other institutional      343982.0\n",
       "4      1995  Alberta                             Construction       27030.0"
      ]
     },
     "execution_count": 10,
     "metadata": {},
     "output_type": "execute_result"
    }
   ],
   "source": [
    "#now aggregate\n",
    "energy_concorded = energy_concorded.groupby(['Ref_Date', 'GEO', 'our_label'], as_index=False).sum()\n",
    "print(\"concorded energy data frame has {} observations\".format(energy_concorded.shape[0]))\n",
    "energy_concorded.head()"
   ]
  },
  {
   "cell_type": "markdown",
   "metadata": {},
   "source": [
    "## GDP"
   ]
  },
  {
   "cell_type": "code",
   "execution_count": 11,
   "metadata": {},
   "outputs": [
    {
     "name": "stdout",
     "output_type": "stream",
     "text": [
      "Concorded, GDP data frame has 5986 observations\n"
     ]
    },
    {
     "data": {
      "text/html": [
       "<div>\n",
       "<style scoped>\n",
       "    .dataframe tbody tr th:only-of-type {\n",
       "        vertical-align: middle;\n",
       "    }\n",
       "\n",
       "    .dataframe tbody tr th {\n",
       "        vertical-align: top;\n",
       "    }\n",
       "\n",
       "    .dataframe thead th {\n",
       "        text-align: right;\n",
       "    }\n",
       "</style>\n",
       "<table border=\"1\" class=\"dataframe\">\n",
       "  <thead>\n",
       "    <tr style=\"text-align: right;\">\n",
       "      <th></th>\n",
       "      <th>Ref_Date</th>\n",
       "      <th>GEO</th>\n",
       "      <th>gdp_value</th>\n",
       "      <th>our_label</th>\n",
       "    </tr>\n",
       "  </thead>\n",
       "  <tbody>\n",
       "    <tr>\n",
       "      <th>0</th>\n",
       "      <td>2007</td>\n",
       "      <td>Newfoundland and Labrador</td>\n",
       "      <td>11.0</td>\n",
       "      <td>Agriculture</td>\n",
       "    </tr>\n",
       "    <tr>\n",
       "      <th>1</th>\n",
       "      <td>2008</td>\n",
       "      <td>Newfoundland and Labrador</td>\n",
       "      <td>7.5</td>\n",
       "      <td>Agriculture</td>\n",
       "    </tr>\n",
       "    <tr>\n",
       "      <th>2</th>\n",
       "      <td>2009</td>\n",
       "      <td>Newfoundland and Labrador</td>\n",
       "      <td>7.7</td>\n",
       "      <td>Agriculture</td>\n",
       "    </tr>\n",
       "    <tr>\n",
       "      <th>3</th>\n",
       "      <td>2010</td>\n",
       "      <td>Newfoundland and Labrador</td>\n",
       "      <td>13.8</td>\n",
       "      <td>Agriculture</td>\n",
       "    </tr>\n",
       "    <tr>\n",
       "      <th>4</th>\n",
       "      <td>2011</td>\n",
       "      <td>Newfoundland and Labrador</td>\n",
       "      <td>12.4</td>\n",
       "      <td>Agriculture</td>\n",
       "    </tr>\n",
       "  </tbody>\n",
       "</table>\n",
       "</div>"
      ],
      "text/plain": [
       "   Ref_Date                        GEO  gdp_value    our_label\n",
       "0      2007  Newfoundland and Labrador       11.0  Agriculture\n",
       "1      2008  Newfoundland and Labrador        7.5  Agriculture\n",
       "2      2009  Newfoundland and Labrador        7.7  Agriculture\n",
       "3      2010  Newfoundland and Labrador       13.8  Agriculture\n",
       "4      2011  Newfoundland and Labrador       12.4  Agriculture"
      ]
     },
     "execution_count": 11,
     "metadata": {},
     "output_type": "execute_result"
    }
   ],
   "source": [
    "#now merge GDP concordance\n",
    "gdp_concorded = gdp_df.merge(gdp_concordance, left_on=\"NAICS\", right_on=\"gdp_label\")\n",
    "#some lower level NAICS are substractred\n",
    "#aoply psotive column\n",
    "gdp_concorded[\"gdp_value\"] = gdp_concorded[\"value\"] *  gdp_concorded[\"positive\"]\n",
    "#keep only variables of interests\n",
    "gdp_concorded = gdp_concorded[['Ref_Date', 'GEO', 'gdp_value', 'our_label']]\n",
    "print(\"Concorded, GDP data frame has {} observations\".format(gdp_concorded.shape[0]))\n",
    "gdp_concorded.head()"
   ]
  },
  {
   "cell_type": "code",
   "execution_count": 12,
   "metadata": {},
   "outputs": [
    {
     "name": "stdout",
     "output_type": "stream",
     "text": [
      "concorded, aggregated, gdp data frame has 2134 observations\n"
     ]
    },
    {
     "data": {
      "text/html": [
       "<div>\n",
       "<style scoped>\n",
       "    .dataframe tbody tr th:only-of-type {\n",
       "        vertical-align: middle;\n",
       "    }\n",
       "\n",
       "    .dataframe tbody tr th {\n",
       "        vertical-align: top;\n",
       "    }\n",
       "\n",
       "    .dataframe thead th {\n",
       "        text-align: right;\n",
       "    }\n",
       "</style>\n",
       "<table border=\"1\" class=\"dataframe\">\n",
       "  <thead>\n",
       "    <tr style=\"text-align: right;\">\n",
       "      <th></th>\n",
       "      <th>Ref_Date</th>\n",
       "      <th>GEO</th>\n",
       "      <th>our_label</th>\n",
       "      <th>gdp_value</th>\n",
       "    </tr>\n",
       "  </thead>\n",
       "  <tbody>\n",
       "    <tr>\n",
       "      <th>0</th>\n",
       "      <td>2007</td>\n",
       "      <td>Alberta</td>\n",
       "      <td>Agriculture</td>\n",
       "      <td>2511.9</td>\n",
       "    </tr>\n",
       "    <tr>\n",
       "      <th>1</th>\n",
       "      <td>2007</td>\n",
       "      <td>Alberta</td>\n",
       "      <td>All other manufacturing</td>\n",
       "      <td>12374.9</td>\n",
       "    </tr>\n",
       "    <tr>\n",
       "      <th>2</th>\n",
       "      <td>2007</td>\n",
       "      <td>Alberta</td>\n",
       "      <td>Cement manufacturing</td>\n",
       "      <td>780.1</td>\n",
       "    </tr>\n",
       "    <tr>\n",
       "      <th>3</th>\n",
       "      <td>2007</td>\n",
       "      <td>Alberta</td>\n",
       "      <td>Chemicals and fertilizers manufacturing</td>\n",
       "      <td>2308.1</td>\n",
       "    </tr>\n",
       "    <tr>\n",
       "      <th>4</th>\n",
       "      <td>2007</td>\n",
       "      <td>Alberta</td>\n",
       "      <td>Commercial and other institutional</td>\n",
       "      <td>23642.9</td>\n",
       "    </tr>\n",
       "  </tbody>\n",
       "</table>\n",
       "</div>"
      ],
      "text/plain": [
       "   Ref_Date      GEO                                our_label  gdp_value\n",
       "0      2007  Alberta                              Agriculture     2511.9\n",
       "1      2007  Alberta                  All other manufacturing    12374.9\n",
       "2      2007  Alberta                     Cement manufacturing      780.1\n",
       "3      2007  Alberta  Chemicals and fertilizers manufacturing     2308.1\n",
       "4      2007  Alberta       Commercial and other institutional    23642.9"
      ]
     },
     "execution_count": 12,
     "metadata": {},
     "output_type": "execute_result"
    }
   ],
   "source": [
    "#now aggregate\n",
    "gdp_concorded = gdp_concorded.groupby(['Ref_Date', 'GEO', 'our_label'], as_index=False).sum()\n",
    "print(\"concorded, aggregated, gdp data frame has {} observations\".format(gdp_concorded.shape[0]))\n",
    "gdp_concorded.head()"
   ]
  },
  {
   "cell_type": "markdown",
   "metadata": {},
   "source": [
    "# Final Cleaning"
   ]
  },
  {
   "cell_type": "code",
   "execution_count": 13,
   "metadata": {},
   "outputs": [],
   "source": [
    "#now merge the two data frame\n",
    "concorded = gdp_concorded.merge(energy_concorded,\n",
    "                      left_on=['Ref_Date', 'GEO', 'our_label'],\n",
    "                      right_on=['Ref_Date', 'GEO', 'our_label'])"
   ]
  },
  {
   "cell_type": "code",
   "execution_count": 14,
   "metadata": {},
   "outputs": [],
   "source": [
    "#convert energy value from terajoukles to oil barrel equivalent\n",
    "concorded[\"energy_value\"] = concorded[\"energy_value\"] * 23.8845896627"
   ]
  },
  {
   "cell_type": "code",
   "execution_count": 15,
   "metadata": {},
   "outputs": [],
   "source": [
    "#convert gdp to millions\n",
    "concorded[\"gdp_value\"] = concorded[\"gdp_value\"] * 1000."
   ]
  },
  {
   "cell_type": "code",
   "execution_count": 16,
   "metadata": {},
   "outputs": [],
   "source": [
    "#calculate labour intensity\n",
    "concorded[\"intensity\"] = concorded[\"energy_value\"]/concorded[\"gdp_value\"]"
   ]
  },
  {
   "cell_type": "code",
   "execution_count": 17,
   "metadata": {},
   "outputs": [],
   "source": [
    "#get level and parents\n",
    "concorded = concorded.merge(gdp_concordance[['our_label', 'level', 'parent']].drop_duplicates())"
   ]
  },
  {
   "cell_type": "code",
   "execution_count": 18,
   "metadata": {},
   "outputs": [
    {
     "data": {
      "text/html": [
       "<div>\n",
       "<style scoped>\n",
       "    .dataframe tbody tr th:only-of-type {\n",
       "        vertical-align: middle;\n",
       "    }\n",
       "\n",
       "    .dataframe tbody tr th {\n",
       "        vertical-align: top;\n",
       "    }\n",
       "\n",
       "    .dataframe thead th {\n",
       "        text-align: right;\n",
       "    }\n",
       "</style>\n",
       "<table border=\"1\" class=\"dataframe\">\n",
       "  <thead>\n",
       "    <tr style=\"text-align: right;\">\n",
       "      <th></th>\n",
       "      <th>Ref_Date</th>\n",
       "      <th>GEO</th>\n",
       "      <th>our_label</th>\n",
       "      <th>gdp_value</th>\n",
       "      <th>energy_value</th>\n",
       "      <th>intensity</th>\n",
       "      <th>level</th>\n",
       "      <th>parent</th>\n",
       "    </tr>\n",
       "  </thead>\n",
       "  <tbody>\n",
       "    <tr>\n",
       "      <th>0</th>\n",
       "      <td>2007</td>\n",
       "      <td>Alberta</td>\n",
       "      <td>Agriculture</td>\n",
       "      <td>2511900.0</td>\n",
       "      <td>3.535612e+06</td>\n",
       "      <td>1.407545</td>\n",
       "      <td>1</td>\n",
       "      <td>NaN</td>\n",
       "    </tr>\n",
       "    <tr>\n",
       "      <th>1</th>\n",
       "      <td>2007</td>\n",
       "      <td>British Columbia</td>\n",
       "      <td>Agriculture</td>\n",
       "      <td>1212800.0</td>\n",
       "      <td>1.019490e+06</td>\n",
       "      <td>0.840608</td>\n",
       "      <td>1</td>\n",
       "      <td>NaN</td>\n",
       "    </tr>\n",
       "    <tr>\n",
       "      <th>2</th>\n",
       "      <td>2007</td>\n",
       "      <td>Manitoba</td>\n",
       "      <td>Agriculture</td>\n",
       "      <td>1494500.0</td>\n",
       "      <td>1.597951e+06</td>\n",
       "      <td>1.069221</td>\n",
       "      <td>1</td>\n",
       "      <td>NaN</td>\n",
       "    </tr>\n",
       "    <tr>\n",
       "      <th>3</th>\n",
       "      <td>2007</td>\n",
       "      <td>New Brunswick</td>\n",
       "      <td>Agriculture</td>\n",
       "      <td>225600.0</td>\n",
       "      <td>1.831948e+05</td>\n",
       "      <td>0.812034</td>\n",
       "      <td>1</td>\n",
       "      <td>NaN</td>\n",
       "    </tr>\n",
       "    <tr>\n",
       "      <th>4</th>\n",
       "      <td>2007</td>\n",
       "      <td>Newfoundland and Labrador</td>\n",
       "      <td>Agriculture</td>\n",
       "      <td>64500.0</td>\n",
       "      <td>2.541320e+04</td>\n",
       "      <td>0.394003</td>\n",
       "      <td>1</td>\n",
       "      <td>NaN</td>\n",
       "    </tr>\n",
       "  </tbody>\n",
       "</table>\n",
       "</div>"
      ],
      "text/plain": [
       "   Ref_Date                        GEO    our_label  gdp_value  energy_value  \\\n",
       "0      2007                    Alberta  Agriculture  2511900.0  3.535612e+06   \n",
       "1      2007           British Columbia  Agriculture  1212800.0  1.019490e+06   \n",
       "2      2007                   Manitoba  Agriculture  1494500.0  1.597951e+06   \n",
       "3      2007              New Brunswick  Agriculture   225600.0  1.831948e+05   \n",
       "4      2007  Newfoundland and Labrador  Agriculture    64500.0  2.541320e+04   \n",
       "\n",
       "   intensity  level parent  \n",
       "0   1.407545      1    NaN  \n",
       "1   0.840608      1    NaN  \n",
       "2   1.069221      1    NaN  \n",
       "3   0.812034      1    NaN  \n",
       "4   0.394003      1    NaN  "
      ]
     },
     "execution_count": 18,
     "metadata": {},
     "output_type": "execute_result"
    }
   ],
   "source": [
    "concorded.head()"
   ]
  },
  {
   "cell_type": "code",
   "execution_count": 19,
   "metadata": {},
   "outputs": [
    {
     "data": {
      "text/plain": [
       "1691942700.0"
      ]
     },
     "execution_count": 19,
     "metadata": {},
     "output_type": "execute_result"
    }
   ],
   "source": [
    "concorded[(concorded[\"Ref_Date\"] == 2014) & (concorded[\"level\"] == 1)][\"gdp_value\"].sum()"
   ]
  },
  {
   "cell_type": "code",
   "execution_count": 20,
   "metadata": {},
   "outputs": [
    {
     "data": {
      "text/plain": [
       "array(['Alberta', 'British Columbia', 'Manitoba', 'New Brunswick',\n",
       "       'Newfoundland and Labrador', 'Nova Scotia', 'Ontario',\n",
       "       'Prince Edward Island', 'Quebec', 'Saskatchewan',\n",
       "       'Northwest Territories', 'Nunavut', 'Yukon'], dtype=object)"
      ]
     },
     "execution_count": 20,
     "metadata": {},
     "output_type": "execute_result"
    }
   ],
   "source": [
    "concorded[(concorded[\"Ref_Date\"] == 2014) & (concorded[\"level\"] == 1)][\"GEO\"].unique()"
   ]
  },
  {
   "cell_type": "code",
   "execution_count": 21,
   "metadata": {},
   "outputs": [],
   "source": [
    "concorded[(concorded[\"Ref_Date\"] == 2014) & (concorded[\"GEO\"] == \"Ontario\")].to_csv(\"check.csv\")"
   ]
  },
  {
   "cell_type": "markdown",
   "metadata": {},
   "source": [
    "# Plot"
   ]
  },
  {
   "cell_type": "code",
   "execution_count": 22,
   "metadata": {},
   "outputs": [],
   "source": [
    "colors = cl.scales['8']['qual']['Set2']"
   ]
  },
  {
   "cell_type": "code",
   "execution_count": 23,
   "metadata": {},
   "outputs": [],
   "source": [
    "for_plotting = concorded[(concorded[\"GEO\"] == \"Ontario\") & (concorded[\"level\"] == 1)]\n",
    "for_plotting = for_plotting.groupby(\"our_label\")"
   ]
  },
  {
   "cell_type": "code",
   "execution_count": 24,
   "metadata": {},
   "outputs": [],
   "source": [
    "size_scaler = 2.*concorded.energy_value.max()/(40.**2)\n",
    "data = []\n",
    "for i, (key, df) in enumerate(for_plotting):\n",
    "    data.append(go.Scatter(\n",
    "                mode = 'markers',\n",
    "                x=df.Ref_Date,\n",
    "                y=df['intensity'],\n",
    "                name = key,\n",
    "                marker = dict(\n",
    "                    color = colors[i],\n",
    "                    sizemode='area',\n",
    "                    sizeref=size_scaler,\n",
    "                    sizemin=2,\n",
    "                    opacity = 0.6,\n",
    "                    size = df.energy_value)\n",
    "                )\n",
    "        )"
   ]
  },
  {
   "cell_type": "code",
   "execution_count": 25,
   "metadata": {},
   "outputs": [
    {
     "data": {
      "application/vnd.plotly.v1+json": {
       "data": [
        {
         "marker": {
          "color": "rgb(102,194,165)",
          "opacity": 0.6,
          "size": [
           3111779.879615207,
           3159572.94353027,
           2723822.489723971,
           3677987.962159173,
           3854327.8876388874,
           3593818.6681878185,
           3754084.264824535,
           3372193.560707625
          ],
          "sizemin": 2,
          "sizemode": "area",
          "sizeref": 78813.50315260219
         },
         "mode": "markers",
         "name": "Agriculture",
         "type": "scatter",
         "x": [
          2007,
          2008,
          2009,
          2010,
          2011,
          2012,
          2013,
          2014
         ],
         "y": [
          0.8713053367349519,
          0.85221117829542,
          0.75148222968713,
          0.8924772420371194,
          0.7338222312921497,
          0.6581362246250996,
          0.7463536580895315,
          0.6192510578646293
         ]
        },
        {
         "marker": {
          "color": "rgb(252,141,98)",
          "opacity": 0.6,
          "size": [
           18540173.87977425,
           18433553.071519956,
           17254657.49494841,
           17431809.496476654,
           19091239.132472064,
           17514832.3301442,
           19031241.043239363,
           20371142.63872717
          ],
          "sizemin": 2,
          "sizemode": "area",
          "sizeref": 78813.50315260219
         },
         "mode": "markers",
         "name": "Commercial and other institutional",
         "type": "scatter",
         "x": [
          2007,
          2008,
          2009,
          2010,
          2011,
          2012,
          2013,
          2014
         ],
         "y": [
          0.26018083211861903,
          0.25872379675948737,
          0.25020420570294805,
          0.2358850318063515,
          0.2476384315668835,
          0.22155501523822552,
          0.2369241586284861,
          0.2476499813844665
         ]
        },
        {
         "marker": {
          "color": "rgb(141,160,203)",
          "opacity": 0.6,
          "size": [
           1298270.7557057212,
           1356429.7315343958,
           1451753.1288782314,
           1163394.4778804544,
           1294855.2593839553,
           1340952.5174329663,
           1541415.8784720073,
           1498662.4629757742
          ],
          "sizemin": 2,
          "sizemode": "area",
          "sizeref": 78813.50315260219
         },
         "mode": "markers",
         "name": "Public administration",
         "type": "scatter",
         "x": [
          2007,
          2008,
          2009,
          2010,
          2011,
          2012,
          2013,
          2014
         ],
         "y": [
          0.03545269924209638,
          0.03378935503041314,
          0.033592255087205036,
          0.0257012306755045,
          0.027035629622334873,
          0.027526932956570493,
          0.03047529178935229,
          0.02931948341825523
         ]
        },
        {
         "marker": {
          "color": "rgb(231,138,195)",
          "opacity": 0.6,
          "size": [
           26725422.75718154,
           27335841.215191163,
           25771424.476873975,
           25506209.993259355,
           26902646.412478775,
           24893546.38382144,
           26896316.99621816,
           28507738.60699154
          ],
          "sizemin": 2,
          "sizemode": "area",
          "sizeref": 78813.50315260219
         },
         "mode": "markers",
         "name": "Residential",
         "type": "scatter",
         "x": [
          2007,
          2008,
          2009,
          2010,
          2011,
          2012,
          2013,
          2014
         ],
         "y": [
          0.108520865754124,
          0.10693957704788236,
          0.10074463439136316,
          0.09578919337818188,
          0.09640227835472467,
          0.08707760830530484,
          0.09113203518319932,
          0.09196507503923275
         ]
        },
        {
         "marker": {
          "color": "rgb(166,216,84)",
          "opacity": 0.6,
          "size": [
           34207318.23820164,
           33375824.018274065,
           27820435.654857684,
           28518438.90316043,
           30282339.734340485,
           30283701.15595126,
           27572871.883003797,
           26702708.512412313
          ],
          "sizemin": 2,
          "sizemode": "area",
          "sizeref": 78813.50315260219
         },
         "mode": "markers",
         "name": "Total industrial",
         "type": "scatter",
         "x": [
          2007,
          2008,
          2009,
          2010,
          2011,
          2012,
          2013,
          2014
         ],
         "y": [
          0.25979603719758,
          0.27182949986459004,
          0.2494645442622949,
          0.23622293395634136,
          0.23952165600719844,
          0.22935977330353788,
          0.21112087522963835,
          0.19646768186067892
         ]
        },
        {
         "marker": {
          "color": "rgb(255,217,47)",
          "opacity": 0.6,
          "size": [
           59989490.780423835,
           59935344.41565849,
           60298390.17853153,
           62208560.23680596,
           61716537.689754345,
           60219809.878541246,
           63050802.522081755,
           62105450.463232085
          ],
          "sizemin": 2,
          "sizemode": "area",
          "sizeref": 78813.50315260219
         },
         "mode": "markers",
         "name": "Total transportation",
         "type": "scatter",
         "x": [
          2007,
          2008,
          2009,
          2010,
          2011,
          2012,
          2013,
          2014
         ],
         "y": [
          3.089709505118168,
          2.8848078289416965,
          3.078066033606004,
          2.9458018741058902,
          2.781189313079549,
          2.5897540490748003,
          2.58414460050091,
          2.3304283883268204
         ]
        }
       ],
       "layout": {
        "title": "Energy Input per GDP- Canada Level"
       }
      },
      "text/html": [
       "<div id=\"564beb6a-3f89-4b28-b251-812346bfced6\" style=\"height: 525px; width: 100%;\" class=\"plotly-graph-div\"></div><script type=\"text/javascript\">require([\"plotly\"], function(Plotly) { window.PLOTLYENV=window.PLOTLYENV || {};window.PLOTLYENV.BASE_URL=\"https://plot.ly\";Plotly.newPlot(\"564beb6a-3f89-4b28-b251-812346bfced6\", [{\"type\": \"scatter\", \"mode\": \"markers\", \"x\": [2007, 2008, 2009, 2010, 2011, 2012, 2013, 2014], \"y\": [0.8713053367349519, 0.85221117829542, 0.75148222968713, 0.8924772420371194, 0.7338222312921497, 0.6581362246250996, 0.7463536580895315, 0.6192510578646293], \"name\": \"Agriculture\", \"marker\": {\"color\": \"rgb(102,194,165)\", \"sizemode\": \"area\", \"sizeref\": 78813.50315260219, \"sizemin\": 2, \"opacity\": 0.6, \"size\": [3111779.879615207, 3159572.94353027, 2723822.489723971, 3677987.962159173, 3854327.8876388874, 3593818.6681878185, 3754084.264824535, 3372193.560707625]}}, {\"type\": \"scatter\", \"mode\": \"markers\", \"x\": [2007, 2008, 2009, 2010, 2011, 2012, 2013, 2014], \"y\": [0.26018083211861903, 0.25872379675948737, 0.25020420570294805, 0.2358850318063515, 0.2476384315668835, 0.22155501523822552, 0.2369241586284861, 0.2476499813844665], \"name\": \"Commercial and other institutional\", \"marker\": {\"color\": \"rgb(252,141,98)\", \"sizemode\": \"area\", \"sizeref\": 78813.50315260219, \"sizemin\": 2, \"opacity\": 0.6, \"size\": [18540173.87977425, 18433553.071519956, 17254657.49494841, 17431809.496476654, 19091239.132472064, 17514832.3301442, 19031241.043239363, 20371142.63872717]}}, {\"type\": \"scatter\", \"mode\": \"markers\", \"x\": [2007, 2008, 2009, 2010, 2011, 2012, 2013, 2014], \"y\": [0.03545269924209638, 0.03378935503041314, 0.033592255087205036, 0.0257012306755045, 0.027035629622334873, 0.027526932956570493, 0.03047529178935229, 0.02931948341825523], \"name\": \"Public administration\", \"marker\": {\"color\": \"rgb(141,160,203)\", \"sizemode\": \"area\", \"sizeref\": 78813.50315260219, \"sizemin\": 2, \"opacity\": 0.6, \"size\": [1298270.7557057212, 1356429.7315343958, 1451753.1288782314, 1163394.4778804544, 1294855.2593839553, 1340952.5174329663, 1541415.8784720073, 1498662.4629757742]}}, {\"type\": \"scatter\", \"mode\": \"markers\", \"x\": [2007, 2008, 2009, 2010, 2011, 2012, 2013, 2014], \"y\": [0.108520865754124, 0.10693957704788236, 0.10074463439136316, 0.09578919337818188, 0.09640227835472467, 0.08707760830530484, 0.09113203518319932, 0.09196507503923275], \"name\": \"Residential\", \"marker\": {\"color\": \"rgb(231,138,195)\", \"sizemode\": \"area\", \"sizeref\": 78813.50315260219, \"sizemin\": 2, \"opacity\": 0.6, \"size\": [26725422.75718154, 27335841.215191163, 25771424.476873975, 25506209.993259355, 26902646.412478775, 24893546.38382144, 26896316.99621816, 28507738.60699154]}}, {\"type\": \"scatter\", \"mode\": \"markers\", \"x\": [2007, 2008, 2009, 2010, 2011, 2012, 2013, 2014], \"y\": [0.25979603719758, 0.27182949986459004, 0.2494645442622949, 0.23622293395634136, 0.23952165600719844, 0.22935977330353788, 0.21112087522963835, 0.19646768186067892], \"name\": \"Total industrial\", \"marker\": {\"color\": \"rgb(166,216,84)\", \"sizemode\": \"area\", \"sizeref\": 78813.50315260219, \"sizemin\": 2, \"opacity\": 0.6, \"size\": [34207318.23820164, 33375824.018274065, 27820435.654857684, 28518438.90316043, 30282339.734340485, 30283701.15595126, 27572871.883003797, 26702708.512412313]}}, {\"type\": \"scatter\", \"mode\": \"markers\", \"x\": [2007, 2008, 2009, 2010, 2011, 2012, 2013, 2014], \"y\": [3.089709505118168, 2.8848078289416965, 3.078066033606004, 2.9458018741058902, 2.781189313079549, 2.5897540490748003, 2.58414460050091, 2.3304283883268204], \"name\": \"Total transportation\", \"marker\": {\"color\": \"rgb(255,217,47)\", \"sizemode\": \"area\", \"sizeref\": 78813.50315260219, \"sizemin\": 2, \"opacity\": 0.6, \"size\": [59989490.780423835, 59935344.41565849, 60298390.17853153, 62208560.23680596, 61716537.689754345, 60219809.878541246, 63050802.522081755, 62105450.463232085]}}], {\"title\": \"Energy Input per GDP- Canada Level\"}, {\"showLink\": true, \"linkText\": \"Export to plot.ly\"})});</script>"
      ],
      "text/vnd.plotly.v1+html": [
       "<div id=\"564beb6a-3f89-4b28-b251-812346bfced6\" style=\"height: 525px; width: 100%;\" class=\"plotly-graph-div\"></div><script type=\"text/javascript\">require([\"plotly\"], function(Plotly) { window.PLOTLYENV=window.PLOTLYENV || {};window.PLOTLYENV.BASE_URL=\"https://plot.ly\";Plotly.newPlot(\"564beb6a-3f89-4b28-b251-812346bfced6\", [{\"type\": \"scatter\", \"mode\": \"markers\", \"x\": [2007, 2008, 2009, 2010, 2011, 2012, 2013, 2014], \"y\": [0.8713053367349519, 0.85221117829542, 0.75148222968713, 0.8924772420371194, 0.7338222312921497, 0.6581362246250996, 0.7463536580895315, 0.6192510578646293], \"name\": \"Agriculture\", \"marker\": {\"color\": \"rgb(102,194,165)\", \"sizemode\": \"area\", \"sizeref\": 78813.50315260219, \"sizemin\": 2, \"opacity\": 0.6, \"size\": [3111779.879615207, 3159572.94353027, 2723822.489723971, 3677987.962159173, 3854327.8876388874, 3593818.6681878185, 3754084.264824535, 3372193.560707625]}}, {\"type\": \"scatter\", \"mode\": \"markers\", \"x\": [2007, 2008, 2009, 2010, 2011, 2012, 2013, 2014], \"y\": [0.26018083211861903, 0.25872379675948737, 0.25020420570294805, 0.2358850318063515, 0.2476384315668835, 0.22155501523822552, 0.2369241586284861, 0.2476499813844665], \"name\": \"Commercial and other institutional\", \"marker\": {\"color\": \"rgb(252,141,98)\", \"sizemode\": \"area\", \"sizeref\": 78813.50315260219, \"sizemin\": 2, \"opacity\": 0.6, \"size\": [18540173.87977425, 18433553.071519956, 17254657.49494841, 17431809.496476654, 19091239.132472064, 17514832.3301442, 19031241.043239363, 20371142.63872717]}}, {\"type\": \"scatter\", \"mode\": \"markers\", \"x\": [2007, 2008, 2009, 2010, 2011, 2012, 2013, 2014], \"y\": [0.03545269924209638, 0.03378935503041314, 0.033592255087205036, 0.0257012306755045, 0.027035629622334873, 0.027526932956570493, 0.03047529178935229, 0.02931948341825523], \"name\": \"Public administration\", \"marker\": {\"color\": \"rgb(141,160,203)\", \"sizemode\": \"area\", \"sizeref\": 78813.50315260219, \"sizemin\": 2, \"opacity\": 0.6, \"size\": [1298270.7557057212, 1356429.7315343958, 1451753.1288782314, 1163394.4778804544, 1294855.2593839553, 1340952.5174329663, 1541415.8784720073, 1498662.4629757742]}}, {\"type\": \"scatter\", \"mode\": \"markers\", \"x\": [2007, 2008, 2009, 2010, 2011, 2012, 2013, 2014], \"y\": [0.108520865754124, 0.10693957704788236, 0.10074463439136316, 0.09578919337818188, 0.09640227835472467, 0.08707760830530484, 0.09113203518319932, 0.09196507503923275], \"name\": \"Residential\", \"marker\": {\"color\": \"rgb(231,138,195)\", \"sizemode\": \"area\", \"sizeref\": 78813.50315260219, \"sizemin\": 2, \"opacity\": 0.6, \"size\": [26725422.75718154, 27335841.215191163, 25771424.476873975, 25506209.993259355, 26902646.412478775, 24893546.38382144, 26896316.99621816, 28507738.60699154]}}, {\"type\": \"scatter\", \"mode\": \"markers\", \"x\": [2007, 2008, 2009, 2010, 2011, 2012, 2013, 2014], \"y\": [0.25979603719758, 0.27182949986459004, 0.2494645442622949, 0.23622293395634136, 0.23952165600719844, 0.22935977330353788, 0.21112087522963835, 0.19646768186067892], \"name\": \"Total industrial\", \"marker\": {\"color\": \"rgb(166,216,84)\", \"sizemode\": \"area\", \"sizeref\": 78813.50315260219, \"sizemin\": 2, \"opacity\": 0.6, \"size\": [34207318.23820164, 33375824.018274065, 27820435.654857684, 28518438.90316043, 30282339.734340485, 30283701.15595126, 27572871.883003797, 26702708.512412313]}}, {\"type\": \"scatter\", \"mode\": \"markers\", \"x\": [2007, 2008, 2009, 2010, 2011, 2012, 2013, 2014], \"y\": [3.089709505118168, 2.8848078289416965, 3.078066033606004, 2.9458018741058902, 2.781189313079549, 2.5897540490748003, 2.58414460050091, 2.3304283883268204], \"name\": \"Total transportation\", \"marker\": {\"color\": \"rgb(255,217,47)\", \"sizemode\": \"area\", \"sizeref\": 78813.50315260219, \"sizemin\": 2, \"opacity\": 0.6, \"size\": [59989490.780423835, 59935344.41565849, 60298390.17853153, 62208560.23680596, 61716537.689754345, 60219809.878541246, 63050802.522081755, 62105450.463232085]}}], {\"title\": \"Energy Input per GDP- Canada Level\"}, {\"showLink\": true, \"linkText\": \"Export to plot.ly\"})});</script>"
      ]
     },
     "metadata": {},
     "output_type": "display_data"
    }
   ],
   "source": [
    "layout = dict(\n",
    "    title = \"Energy Input per GDP- Canada Level\",\n",
    ")\n",
    "fig = dict(data=data, layout=layout)\n",
    "plt.iplot(fig, filename = \"Manually Set Range\")"
   ]
  },
  {
   "cell_type": "code",
   "execution_count": null,
   "metadata": {},
   "outputs": [],
   "source": []
  },
  {
   "cell_type": "code",
   "execution_count": null,
   "metadata": {},
   "outputs": [],
   "source": []
  }
 ],
 "metadata": {
  "kernelspec": {
   "display_name": "Python 3",
   "language": "python",
   "name": "python3"
  },
  "language_info": {
   "codemirror_mode": {
    "name": "ipython",
    "version": 3
   },
   "file_extension": ".py",
   "mimetype": "text/x-python",
   "name": "python",
   "nbconvert_exporter": "python",
   "pygments_lexer": "ipython3",
   "version": "3.6.4"
  }
 },
 "nbformat": 4,
 "nbformat_minor": 2
}
